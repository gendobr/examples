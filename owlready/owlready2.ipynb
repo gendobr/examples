{
  "nbformat": 4,
  "nbformat_minor": 0,
  "metadata": {
    "colab": {
      "name": "owlready2.ipynb",
      "provenance": [],
      "collapsed_sections": [
        "QEY-Tt4U3QnJ",
        "GWBzMLkM2_J9",
        "wDzSpyD_3yq1",
        "B9oBEb-s4wh7",
        "Fr0n6_Pc7QR5",
        "uuiJR5Y5Yb7X",
        "SvDwbKBbak6I",
        "BTF-AJNmcbK6",
        "c8vvDvK_sszk",
        "9HvqKv9SNh8b"
      ]
    },
    "kernelspec": {
      "name": "python3",
      "display_name": "Python 3"
    }
  },
  "cells": [
    {
      "cell_type": "markdown",
      "metadata": {
        "id": "VLqXo-f1VTVf",
        "colab_type": "text"
      },
      "source": [
        "# Owlready 2 examples\n",
        "\n",
        "## Support materials for courses \"Intelligent Information systems\" and \"XML technologies\" @ Zaporizhzhya National University.\n",
        "\n",
        "Sample use cases of owlready2 ( https://pythonhosted.org/Owlready2/ , https://buildmedia.readthedocs.org/media/pdf/owlready2/latest/owlready2.pdf ).\n",
        "\n",
        "Owlready2 is a module for ontology-oriented programming in Python. It can load OWL 2.0 ontologies as Python objects, modify them, save them, and perform reasoning via HermiT (included). Owlready2 allows a transparent access to OWL ontologies (contrary to usual Java-based API).\n",
        "\n",
        "Owlready version 2 includes an optimized triplestore / quadstore, based on SQLite3. This quadstore is optimized both for performance and memory consumption. Controray to version 1, Owlready2 can deal with big ontologies.\n",
        "\n",
        "Owlready2 has been created at the LIMICS reseach lab, University Paris 13, Sorbonne Paris Cité, INSERM UMRS 1142, Paris 6 University, by Jean-Baptiste Lamy. It was developed during the VIIIP research project funded by ANSM, the French Drug Agency; this is why some examples in this documentation relate to drug ;).\n",
        "\n",
        "Owlready2 is available under the GNU LGPL licence v3. A forum/mailing list is available for Owlready on Nabble: http://owlready.8326.n8.nabble.com\n"
      ]
    },
    {
      "cell_type": "markdown",
      "metadata": {
        "id": "QEY-Tt4U3QnJ",
        "colab_type": "text"
      },
      "source": [
        "## Initial actions"
      ]
    },
    {
      "cell_type": "markdown",
      "metadata": {
        "id": "jFXwdBsX2C0F",
        "colab_type": "text"
      },
      "source": [
        "Before we start, we need to install owlready2:"
      ]
    },
    {
      "cell_type": "code",
      "metadata": {
        "id": "9ToDrqL54s-l",
        "colab_type": "code",
        "colab": {
          "base_uri": "https://localhost:8080/",
          "height": 201
        },
        "outputId": "97848aa5-e6db-4c1f-85ef-017ea7477969"
      },
      "source": [
        "!pip install owlready2"
      ],
      "execution_count": 1,
      "outputs": [
        {
          "output_type": "stream",
          "text": [
            "Collecting owlready2\n",
            "\u001b[?25l  Downloading https://files.pythonhosted.org/packages/13/1d/d9efef926bddd80923196b20ca7ea433642de78d253784e73ce1cc22600e/Owlready2-0.21.tar.gz (20.0MB)\n",
            "\u001b[K     |████████████████████████████████| 20.0MB 1.3MB/s \n",
            "\u001b[?25hBuilding wheels for collected packages: owlready2\n",
            "  Building wheel for owlready2 (setup.py) ... \u001b[?25l\u001b[?25hdone\n",
            "  Created wheel for owlready2: filename=Owlready2-0.21-cp36-cp36m-linux_x86_64.whl size=20252153 sha256=d8c5213fdaeb8299ae09f632ea1c0932343339213783cae1570fa8598c2dc22f\n",
            "  Stored in directory: /root/.cache/pip/wheels/10/fd/59/e35a4545fff96706a24ebf02bf5ba2f9da772c88d66d05b03b\n",
            "Successfully built owlready2\n",
            "Installing collected packages: owlready2\n",
            "Successfully installed owlready2-0.21\n"
          ],
          "name": "stdout"
        }
      ]
    },
    {
      "cell_type": "markdown",
      "metadata": {
        "id": "zLBGEP7t2PN4",
        "colab_type": "text"
      },
      "source": [
        "Then we import the library"
      ]
    },
    {
      "cell_type": "code",
      "metadata": {
        "id": "ZDd9iN4MBQ3b",
        "colab_type": "code",
        "colab": {}
      },
      "source": [
        "from owlready2 import *"
      ],
      "execution_count": 0,
      "outputs": []
    },
    {
      "cell_type": "markdown",
      "metadata": {
        "id": "sw9x1EgR2TeO",
        "colab_type": "text"
      },
      "source": [
        "and load the pizza ontology"
      ]
    },
    {
      "cell_type": "code",
      "metadata": {
        "id": "mL0OFBtv5aWN",
        "colab_type": "code",
        "colab": {
          "base_uri": "https://localhost:8080/",
          "height": 35
        },
        "outputId": "2406e7a2-83c1-4682-fc5b-89a117137a0e"
      },
      "source": [
        "onto_path.append(\"/home/cache\")\n",
        "onto = get_ontology(\"https://raw.githubusercontent.com/owlcs/pizza-ontology/master/pizza.owl\")\n",
        "onto.load()"
      ],
      "execution_count": 3,
      "outputs": [
        {
          "output_type": "execute_result",
          "data": {
            "text/plain": [
              "get_ontology(\"http://www.co-ode.org/ontologies/pizza/\")"
            ]
          },
          "metadata": {
            "tags": []
          },
          "execution_count": 3
        }
      ]
    },
    {
      "cell_type": "markdown",
      "metadata": {
        "id": "CKgY36IS2ZnK",
        "colab_type": "text"
      },
      "source": [
        "The URL of the pizza.owl is different from namespace.\n",
        "So we load the correct namespace."
      ]
    },
    {
      "cell_type": "code",
      "metadata": {
        "id": "fa6TN6rV2XS_",
        "colab_type": "code",
        "colab": {}
      },
      "source": [
        "pizza = onto.get_namespace('http://www.co-ode.org/ontologies/pizza/pizza.owl')"
      ],
      "execution_count": 0,
      "outputs": []
    },
    {
      "cell_type": "markdown",
      "metadata": {
        "id": "8QKS6sGf2myI",
        "colab_type": "text"
      },
      "source": [
        "Then we start the reasoner to build missing relations"
      ]
    },
    {
      "cell_type": "code",
      "metadata": {
        "id": "Lp9Pe8EOlOZ6",
        "colab_type": "code",
        "colab": {
          "base_uri": "https://localhost:8080/",
          "height": 129
        },
        "outputId": "1fd96104-0c40-427b-d3e8-2d7d4f3b343f"
      },
      "source": [
        "sync_reasoner()"
      ],
      "execution_count": 5,
      "outputs": [
        {
          "output_type": "stream",
          "text": [
            "* Owlready2 * Running HermiT...\n",
            "    java -Xmx2000M -cp /usr/local/lib/python3.6/dist-packages/owlready2/hermit:/usr/local/lib/python3.6/dist-packages/owlready2/hermit/HermiT.jar org.semanticweb.HermiT.cli.CommandLine -c -O -D -I file:////tmp/tmpygkb06nb\n",
            "* Owlready2 * HermiT took 3.129239082336426 seconds\n",
            "* Owlready * Reparenting pizza.isToppingOf: {owl.FunctionalProperty, owl.ObjectProperty, pizza.isIngredientOf} => {owl.FunctionalProperty, pizza.isIngredientOf}\n",
            "* Owlready * (NB: only changes on entities loaded in Python are shown, other changes are done but not listed)\n"
          ],
          "name": "stderr"
        }
      ]
    },
    {
      "cell_type": "markdown",
      "metadata": {
        "id": "8p2m_SvA2wfM",
        "colab_type": "text"
      },
      "source": [
        "Show all defined classes:"
      ]
    },
    {
      "cell_type": "code",
      "metadata": {
        "id": "1hXadDln6ZTM",
        "colab_type": "code",
        "colab": {
          "base_uri": "https://localhost:8080/",
          "height": 1000
        },
        "outputId": "a4dd1255-1fbc-45fa-afd6-9492c9eeb5ba"
      },
      "source": [
        "list(onto.classes())"
      ],
      "execution_count": 6,
      "outputs": [
        {
          "output_type": "execute_result",
          "data": {
            "text/plain": [
              "[pizza.Pizza,\n",
              " pizza.PizzaBase,\n",
              " pizza.Food,\n",
              " pizza.Spiciness,\n",
              " pizza.PizzaTopping,\n",
              " pizza.American,\n",
              " pizza.NamedPizza,\n",
              " pizza.MozzarellaTopping,\n",
              " pizza.PeperoniSausageTopping,\n",
              " pizza.TomatoTopping,\n",
              " pizza.AmericanHot,\n",
              " pizza.HotGreenPepperTopping,\n",
              " pizza.JalapenoPepperTopping,\n",
              " pizza.AnchoviesTopping,\n",
              " pizza.FishTopping,\n",
              " pizza.ArtichokeTopping,\n",
              " pizza.VegetableTopping,\n",
              " pizza.Mild,\n",
              " pizza.AsparagusTopping,\n",
              " pizza.Cajun,\n",
              " pizza.OnionTopping,\n",
              " pizza.PeperonataTopping,\n",
              " pizza.PrawnsTopping,\n",
              " pizza.TobascoPepperSauce,\n",
              " pizza.CajunSpiceTopping,\n",
              " pizza.HerbSpiceTopping,\n",
              " pizza.Hot,\n",
              " pizza.RosemaryTopping,\n",
              " pizza.CaperTopping,\n",
              " pizza.Capricciosa,\n",
              " pizza.HamTopping,\n",
              " pizza.OliveTopping,\n",
              " pizza.Caprina,\n",
              " pizza.GoatsCheeseTopping,\n",
              " pizza.SundriedTomatoTopping,\n",
              " pizza.CheeseTopping,\n",
              " pizza.CheeseyPizza,\n",
              " pizza.CheeseyVegetableTopping,\n",
              " pizza.ChickenTopping,\n",
              " pizza.MeatTopping,\n",
              " pizza.Country,\n",
              " pizza.DomainConcept,\n",
              " pizza.DeepPanBase,\n",
              " pizza.ThinAndCrispyBase,\n",
              " pizza.ValuePartition,\n",
              " pizza.Fiorentina,\n",
              " pizza.GarlicTopping,\n",
              " pizza.ParmesanTopping,\n",
              " pizza.SpinachTopping,\n",
              " pizza.FourCheesesTopping,\n",
              " pizza.FourSeasons,\n",
              " pizza.MushroomTopping,\n",
              " pizza.FruitTopping,\n",
              " pizza.FruttiDiMare,\n",
              " pizza.MixedSeafoodTopping,\n",
              " pizza.Medium,\n",
              " pizza.Giardiniera,\n",
              " pizza.LeekTopping,\n",
              " pizza.PetitPoisTopping,\n",
              " pizza.SlicedTomatoTopping,\n",
              " pizza.GorgonzolaTopping,\n",
              " pizza.GreenPepperTopping,\n",
              " pizza.PepperTopping,\n",
              " pizza.HotSpicedBeefTopping,\n",
              " pizza.IceCream,\n",
              " pizza.InterestingPizza,\n",
              " pizza.LaReine,\n",
              " pizza.Margherita,\n",
              " pizza.MeatyPizza,\n",
              " pizza.Mushroom,\n",
              " pizza.Napoletana,\n",
              " pizza.NonVegetarianPizza,\n",
              " pizza.VegetarianPizza,\n",
              " pizza.NutTopping,\n",
              " pizza.ParmaHamTopping,\n",
              " pizza.Parmense,\n",
              " pizza.PineKernels,\n",
              " pizza.PolloAdAstra,\n",
              " pizza.RedOnionTopping,\n",
              " pizza.SweetPepperTopping,\n",
              " pizza.PrinceCarlo,\n",
              " pizza.QuattroFormaggi,\n",
              " pizza.RealItalianPizza,\n",
              " pizza.RocketTopping,\n",
              " pizza.Rosa,\n",
              " pizza.SauceTopping,\n",
              " pizza.Siciliana,\n",
              " pizza.SloppyGiuseppe,\n",
              " pizza.Soho,\n",
              " pizza.SpicyPizza,\n",
              " pizza.SpicyTopping,\n",
              " pizza.SpicyPizzaEquivalent,\n",
              " pizza.SultanaTopping,\n",
              " pizza.ThinAndCrispyPizza,\n",
              " pizza.UnclosedPizza,\n",
              " pizza.VegetarianPizzaEquivalent1,\n",
              " pizza.VegetarianTopping,\n",
              " pizza.VegetarianPizzaEquivalent2,\n",
              " pizza.Veneziana]"
            ]
          },
          "metadata": {
            "tags": []
          },
          "execution_count": 6
        }
      ]
    },
    {
      "cell_type": "markdown",
      "metadata": {
        "id": "qmcUlv095L1n",
        "colab_type": "text"
      },
      "source": [
        "All properties"
      ]
    },
    {
      "cell_type": "code",
      "metadata": {
        "id": "ow2U5lc15LGG",
        "colab_type": "code",
        "colab": {
          "base_uri": "https://localhost:8080/",
          "height": 311
        },
        "outputId": "55496b90-5586-42e6-c23a-31234b69a7bf"
      },
      "source": [
        "list(onto.properties())"
      ],
      "execution_count": 7,
      "outputs": [
        {
          "output_type": "execute_result",
          "data": {
            "text/plain": [
              "[pizza.hasBase,\n",
              " pizza.hasIngredient,\n",
              " pizza.isBaseOf,\n",
              " pizza.hasCountryOfOrigin,\n",
              " pizza.isIngredientOf,\n",
              " pizza.hasSpiciness,\n",
              " pizza.hasTopping,\n",
              " pizza.isToppingOf,\n",
              " 1.1.title,\n",
              " terms.contributor,\n",
              " terms.license,\n",
              " terms.provenance,\n",
              " 1.1.description,\n",
              " core.altLabel,\n",
              " core.definition,\n",
              " core.prefLabel]"
            ]
          },
          "metadata": {
            "tags": []
          },
          "execution_count": 7
        }
      ]
    },
    {
      "cell_type": "markdown",
      "metadata": {
        "id": "GWBzMLkM2_J9",
        "colab_type": "text"
      },
      "source": [
        "## Ex1:Show list of pizzas that have fish topping"
      ]
    },
    {
      "cell_type": "markdown",
      "metadata": {
        "id": "1kt2FhGd23r5",
        "colab_type": "text"
      },
      "source": [
        "Create set of fishToppings and its' descendants"
      ]
    },
    {
      "cell_type": "code",
      "metadata": {
        "id": "GIRfX08sC2px",
        "colab_type": "code",
        "colab": {
          "base_uri": "https://localhost:8080/",
          "height": 90
        },
        "outputId": "4b28926a-d6e5-4c54-fb59-c7fa033b3820"
      },
      "source": [
        "fishToppingList=set(pizza.FishTopping.descendants())\n",
        "fishToppingList"
      ],
      "execution_count": 8,
      "outputs": [
        {
          "output_type": "execute_result",
          "data": {
            "text/plain": [
              "{pizza.AnchoviesTopping,\n",
              " pizza.FishTopping,\n",
              " pizza.MixedSeafoodTopping,\n",
              " pizza.PrawnsTopping}"
            ]
          },
          "metadata": {
            "tags": []
          },
          "execution_count": 8
        }
      ]
    },
    {
      "cell_type": "markdown",
      "metadata": {
        "id": "LBQlxOQB3X8P",
        "colab_type": "text"
      },
      "source": [
        "Display pizzas which have **hasTopping** property"
      ]
    },
    {
      "cell_type": "code",
      "metadata": {
        "id": "vXLU1SQWD5rZ",
        "colab_type": "code",
        "colab": {
          "base_uri": "https://localhost:8080/",
          "height": 550
        },
        "outputId": "98c2b347-4687-4435-cc6d-95d87f8bd5e3"
      },
      "source": [
        "[x for x in onto.classes() if x.hasTopping]"
      ],
      "execution_count": 9,
      "outputs": [
        {
          "output_type": "execute_result",
          "data": {
            "text/plain": [
              "[pizza.American,\n",
              " pizza.AmericanHot,\n",
              " pizza.Cajun,\n",
              " pizza.Capricciosa,\n",
              " pizza.Caprina,\n",
              " pizza.CheeseyPizza,\n",
              " pizza.Fiorentina,\n",
              " pizza.FourSeasons,\n",
              " pizza.FruttiDiMare,\n",
              " pizza.Giardiniera,\n",
              " pizza.IceCream,\n",
              " pizza.InterestingPizza,\n",
              " pizza.LaReine,\n",
              " pizza.Margherita,\n",
              " pizza.MeatyPizza,\n",
              " pizza.Mushroom,\n",
              " pizza.Napoletana,\n",
              " pizza.Parmense,\n",
              " pizza.PolloAdAstra,\n",
              " pizza.PrinceCarlo,\n",
              " pizza.QuattroFormaggi,\n",
              " pizza.Rosa,\n",
              " pizza.Siciliana,\n",
              " pizza.SloppyGiuseppe,\n",
              " pizza.Soho,\n",
              " pizza.SpicyPizza,\n",
              " pizza.SpicyPizzaEquivalent,\n",
              " pizza.UnclosedPizza,\n",
              " pizza.Veneziana]"
            ]
          },
          "metadata": {
            "tags": []
          },
          "execution_count": 9
        }
      ]
    },
    {
      "cell_type": "markdown",
      "metadata": {
        "id": "pXaJ5PZA3k6R",
        "colab_type": "text"
      },
      "source": [
        "Show classes that have fish toppings"
      ]
    },
    {
      "cell_type": "code",
      "metadata": {
        "id": "tOmSCGwcwp25",
        "colab_type": "code",
        "colab": {
          "base_uri": "https://localhost:8080/",
          "height": 127
        },
        "outputId": "3fafc0a9-9128-4c75-801f-18c3f0904e00"
      },
      "source": [
        "[x for x in onto.classes() if x.hasTopping and len(fishToppingList.intersection(set(x.hasTopping)))>0]"
      ],
      "execution_count": 10,
      "outputs": [
        {
          "output_type": "execute_result",
          "data": {
            "text/plain": [
              "[pizza.Cajun,\n",
              " pizza.Capricciosa,\n",
              " pizza.FourSeasons,\n",
              " pizza.FruttiDiMare,\n",
              " pizza.Napoletana,\n",
              " pizza.Siciliana]"
            ]
          },
          "metadata": {
            "tags": []
          },
          "execution_count": 10
        }
      ]
    },
    {
      "cell_type": "markdown",
      "metadata": {
        "id": "wDzSpyD_3yq1",
        "colab_type": "text"
      },
      "source": [
        "## Ex2: Show pizzas with vegetable toppings"
      ]
    },
    {
      "cell_type": "markdown",
      "metadata": {
        "id": "rQvUyxgQ4Bfg",
        "colab_type": "text"
      },
      "source": [
        "Explore class names (pizza.OliveTopping is one of VegetableTopping)"
      ]
    },
    {
      "cell_type": "code",
      "metadata": {
        "id": "mKhCCFM_Cn7x",
        "colab_type": "code",
        "colab": {
          "base_uri": "https://localhost:8080/",
          "height": 35
        },
        "outputId": "604c280e-2e59-41a3-c487-996b36edb66b"
      },
      "source": [
        "pizza.OliveTopping.is_a"
      ],
      "execution_count": 204,
      "outputs": [
        {
          "output_type": "execute_result",
          "data": {
            "text/plain": [
              "[pizza.VegetableTopping, pizza.hasSpiciness.some(pizza.Mild)]"
            ]
          },
          "metadata": {
            "tags": []
          },
          "execution_count": 204
        }
      ]
    },
    {
      "cell_type": "markdown",
      "metadata": {
        "id": "VYOpvjBE4OxX",
        "colab_type": "text"
      },
      "source": [
        "Create a set of vegetable toppings"
      ]
    },
    {
      "cell_type": "code",
      "metadata": {
        "id": "9JaRqhIM3_4O",
        "colab_type": "code",
        "colab": {
          "base_uri": "https://localhost:8080/",
          "height": 439
        },
        "outputId": "852a3d7e-67c7-4409-d1f4-aff701122963"
      },
      "source": [
        "vegetableToppingList=set(pizza.VegetableTopping.descendants())\n",
        "vegetableToppingList"
      ],
      "execution_count": 205,
      "outputs": [
        {
          "output_type": "execute_result",
          "data": {
            "text/plain": [
              "{pizza.ArtichokeTopping,\n",
              " pizza.AsparagusTopping,\n",
              " pizza.CaperTopping,\n",
              " pizza.CheeseyVegetableTopping,\n",
              " pizza.GarlicTopping,\n",
              " pizza.GreenPepperTopping,\n",
              " pizza.HotGreenPepperTopping,\n",
              " pizza.JalapenoPepperTopping,\n",
              " pizza.LeekTopping,\n",
              " pizza.MushroomTopping,\n",
              " pizza.OliveTopping,\n",
              " pizza.OnionTopping,\n",
              " pizza.PeperonataTopping,\n",
              " pizza.PepperTopping,\n",
              " pizza.PetitPoisTopping,\n",
              " pizza.RedOnionTopping,\n",
              " pizza.RocketTopping,\n",
              " pizza.SlicedTomatoTopping,\n",
              " pizza.SpinachTopping,\n",
              " pizza.SundriedTomatoTopping,\n",
              " pizza.SweetPepperTopping,\n",
              " pizza.TomatoTopping,\n",
              " pizza.VegetableTopping}"
            ]
          },
          "metadata": {
            "tags": []
          },
          "execution_count": 205
        }
      ]
    },
    {
      "cell_type": "markdown",
      "metadata": {
        "id": "5rARQjaz4gma",
        "colab_type": "text"
      },
      "source": [
        "Show classes that have vegetable toppings"
      ]
    },
    {
      "cell_type": "code",
      "metadata": {
        "id": "BjjwbfkU4aXI",
        "colab_type": "code",
        "colab": {
          "base_uri": "https://localhost:8080/",
          "height": 421
        },
        "outputId": "0621404a-9a9e-4729-d6c2-8a3103d51200"
      },
      "source": [
        "[x for x in onto.classes() if x.hasTopping and len(vegetableToppingList.intersection(set(x.hasTopping)))>0]"
      ],
      "execution_count": 206,
      "outputs": [
        {
          "output_type": "execute_result",
          "data": {
            "text/plain": [
              "[pizza.American,\n",
              " pizza.AmericanHot,\n",
              " pizza.Cajun,\n",
              " pizza.Capricciosa,\n",
              " pizza.Caprina,\n",
              " pizza.Fiorentina,\n",
              " pizza.FourSeasons,\n",
              " pizza.FruttiDiMare,\n",
              " pizza.Giardiniera,\n",
              " pizza.LaReine,\n",
              " pizza.Margherita,\n",
              " pizza.Mushroom,\n",
              " pizza.Napoletana,\n",
              " pizza.Parmense,\n",
              " pizza.PolloAdAstra,\n",
              " pizza.PrinceCarlo,\n",
              " pizza.QuattroFormaggi,\n",
              " pizza.Rosa,\n",
              " pizza.Siciliana,\n",
              " pizza.SloppyGiuseppe,\n",
              " pizza.Soho,\n",
              " pizza.Veneziana]"
            ]
          },
          "metadata": {
            "tags": []
          },
          "execution_count": 206
        }
      ]
    },
    {
      "cell_type": "markdown",
      "metadata": {
        "id": "B9oBEb-s4wh7",
        "colab_type": "text"
      },
      "source": [
        "## Ex3: Show pizzas with Hot spiciness"
      ]
    },
    {
      "cell_type": "markdown",
      "metadata": {
        "id": "BfvZusFc57Ex",
        "colab_type": "text"
      },
      "source": [
        "Explore structure"
      ]
    },
    {
      "cell_type": "code",
      "metadata": {
        "id": "SQdELtMj4n10",
        "colab_type": "code",
        "colab": {
          "base_uri": "https://localhost:8080/",
          "height": 35
        },
        "outputId": "060d32dd-c806-4026-ee02-d65ad37eb367"
      },
      "source": [
        "pizza.Spiciness.descendants()"
      ],
      "execution_count": 207,
      "outputs": [
        {
          "output_type": "execute_result",
          "data": {
            "text/plain": [
              "{pizza.Hot, pizza.Medium, pizza.Mild, pizza.Spiciness}"
            ]
          },
          "metadata": {
            "tags": []
          },
          "execution_count": 207
        }
      ]
    },
    {
      "cell_type": "code",
      "metadata": {
        "id": "jlNvsS_w4_0j",
        "colab_type": "code",
        "colab": {
          "base_uri": "https://localhost:8080/",
          "height": 35
        },
        "outputId": "5f93d0cd-3b90-45ee-ef2d-6718c3e41b12"
      },
      "source": [
        "pizza.CajunSpiceTopping.hasSpiciness"
      ],
      "execution_count": 213,
      "outputs": [
        {
          "output_type": "execute_result",
          "data": {
            "text/plain": [
              "pizza.Hot"
            ]
          },
          "metadata": {
            "tags": []
          },
          "execution_count": 213
        }
      ]
    },
    {
      "cell_type": "code",
      "metadata": {
        "id": "n0zd2X4t5G6f",
        "colab_type": "code",
        "colab": {
          "base_uri": "https://localhost:8080/",
          "height": 72
        },
        "outputId": "a854a24d-950d-42fd-f627-3a85220f18ee"
      },
      "source": [
        "pizza.CajunSpiceTopping.is_a"
      ],
      "execution_count": 214,
      "outputs": [
        {
          "output_type": "execute_result",
          "data": {
            "text/plain": [
              "[pizza.HerbSpiceTopping,\n",
              " pizza.hasSpiciness.some(pizza.Hot),\n",
              " pizza.SpicyTopping]"
            ]
          },
          "metadata": {
            "tags": []
          },
          "execution_count": 214
        }
      ]
    },
    {
      "cell_type": "code",
      "metadata": {
        "id": "tBMHYILP5f4S",
        "colab_type": "code",
        "colab": {
          "base_uri": "https://localhost:8080/",
          "height": 127
        },
        "outputId": "2e896e25-df14-4fe0-c4e3-0089a19c1cf9"
      },
      "source": [
        "pizza.SpicyTopping.descendants()"
      ],
      "execution_count": 215,
      "outputs": [
        {
          "output_type": "execute_result",
          "data": {
            "text/plain": [
              "{pizza.CajunSpiceTopping,\n",
              " pizza.HotGreenPepperTopping,\n",
              " pizza.HotSpicedBeefTopping,\n",
              " pizza.JalapenoPepperTopping,\n",
              " pizza.SpicyTopping,\n",
              " pizza.TobascoPepperSauce}"
            ]
          },
          "metadata": {
            "tags": []
          },
          "execution_count": 215
        }
      ]
    },
    {
      "cell_type": "markdown",
      "metadata": {
        "id": "4II6kzu76AYL",
        "colab_type": "text"
      },
      "source": [
        "Filter SpicyToppings"
      ]
    },
    {
      "cell_type": "code",
      "metadata": {
        "id": "DfhnF8oc5u-k",
        "colab_type": "code",
        "colab": {}
      },
      "source": [
        "spicyToppings={x for x in pizza.SpicyTopping.descendants() if x.hasSpiciness and x.hasSpiciness==pizza.Hot}"
      ],
      "execution_count": 0,
      "outputs": []
    },
    {
      "cell_type": "code",
      "metadata": {
        "id": "UQ0A0LQb6QSU",
        "colab_type": "code",
        "colab": {
          "base_uri": "https://localhost:8080/",
          "height": 127
        },
        "outputId": "f493c39e-3f0b-44e2-feaf-85803558d9b3"
      },
      "source": [
        "spicyToppings"
      ],
      "execution_count": 219,
      "outputs": [
        {
          "output_type": "execute_result",
          "data": {
            "text/plain": [
              "{pizza.CajunSpiceTopping,\n",
              " pizza.HotGreenPepperTopping,\n",
              " pizza.HotSpicedBeefTopping,\n",
              " pizza.JalapenoPepperTopping,\n",
              " pizza.SpicyTopping,\n",
              " pizza.TobascoPepperSauce}"
            ]
          },
          "metadata": {
            "tags": []
          },
          "execution_count": 219
        }
      ]
    },
    {
      "cell_type": "markdown",
      "metadata": {
        "id": "jephZwrB6gZ7",
        "colab_type": "text"
      },
      "source": [
        "Select pizzas having spicy toppings"
      ]
    },
    {
      "cell_type": "code",
      "metadata": {
        "id": "PWFfWgdl6ctY",
        "colab_type": "code",
        "colab": {
          "base_uri": "https://localhost:8080/",
          "height": 35
        },
        "outputId": "95e09a27-d126-4b0d-eb7a-eacd030acefb"
      },
      "source": [
        "[x for x in pizza.NamedPizza.descendants() if x.hasTopping and len(spicyToppings.intersection(set(x.hasTopping)))>0]"
      ],
      "execution_count": 222,
      "outputs": [
        {
          "output_type": "execute_result",
          "data": {
            "text/plain": [
              "[pizza.PolloAdAstra, pizza.SloppyGiuseppe, pizza.AmericanHot, pizza.Cajun]"
            ]
          },
          "metadata": {
            "tags": []
          },
          "execution_count": 222
        }
      ]
    },
    {
      "cell_type": "markdown",
      "metadata": {
        "id": "NmW5wiSz6-DF",
        "colab_type": "text"
      },
      "source": [
        "Another way to select. Use the \n",
        "`pizza.SpicyPizza`\n",
        "class\n"
      ]
    },
    {
      "cell_type": "code",
      "metadata": {
        "id": "7GhBy2sk6mQZ",
        "colab_type": "code",
        "colab": {
          "base_uri": "https://localhost:8080/",
          "height": 35
        },
        "outputId": "4f1d07e2-2663-4055-edb1-194366605c77"
      },
      "source": [
        "set(pizza.SpicyPizza.descendants()).intersection(pizza.NamedPizza.descendants())"
      ],
      "execution_count": 223,
      "outputs": [
        {
          "output_type": "execute_result",
          "data": {
            "text/plain": [
              "{pizza.AmericanHot, pizza.Cajun, pizza.PolloAdAstra, pizza.SloppyGiuseppe}"
            ]
          },
          "metadata": {
            "tags": []
          },
          "execution_count": 223
        }
      ]
    },
    {
      "cell_type": "markdown",
      "metadata": {
        "id": "Fr0n6_Pc7QR5",
        "colab_type": "text"
      },
      "source": [
        "## Ex4: Show pizzas having 2 or more cheeses in toppings"
      ]
    },
    {
      "cell_type": "markdown",
      "metadata": {
        "id": "b8CSpsuD7lzC",
        "colab_type": "text"
      },
      "source": [
        "Do some exploration"
      ]
    },
    {
      "cell_type": "code",
      "metadata": {
        "id": "jzssuM2D6q8Z",
        "colab_type": "code",
        "colab": {
          "base_uri": "https://localhost:8080/",
          "height": 146
        },
        "outputId": "2e9c5699-3cf5-4280-a695-aaca5a8a83bc"
      },
      "source": [
        "pizza.CheeseTopping.descendants()"
      ],
      "execution_count": 224,
      "outputs": [
        {
          "output_type": "execute_result",
          "data": {
            "text/plain": [
              "{pizza.CheeseTopping,\n",
              " pizza.CheeseyVegetableTopping,\n",
              " pizza.FourCheesesTopping,\n",
              " pizza.GoatsCheeseTopping,\n",
              " pizza.GorgonzolaTopping,\n",
              " pizza.MozzarellaTopping,\n",
              " pizza.ParmesanTopping}"
            ]
          },
          "metadata": {
            "tags": []
          },
          "execution_count": 224
        }
      ]
    },
    {
      "cell_type": "markdown",
      "metadata": {
        "id": "w0K0iBXu8IXw",
        "colab_type": "text"
      },
      "source": [
        "Compose list of desired toppings"
      ]
    },
    {
      "cell_type": "code",
      "metadata": {
        "id": "HxUWAFAD7q2A",
        "colab_type": "code",
        "colab": {
          "base_uri": "https://localhost:8080/",
          "height": 146
        },
        "outputId": "f720919b-75e0-4f91-bff9-732997c35452"
      },
      "source": [
        "cheeseToppings={x for x in pizza.CheeseTopping.descendants()}\n",
        "cheeseToppings"
      ],
      "execution_count": 228,
      "outputs": [
        {
          "output_type": "execute_result",
          "data": {
            "text/plain": [
              "{pizza.CheeseTopping,\n",
              " pizza.CheeseyVegetableTopping,\n",
              " pizza.FourCheesesTopping,\n",
              " pizza.GoatsCheeseTopping,\n",
              " pizza.GorgonzolaTopping,\n",
              " pizza.MozzarellaTopping,\n",
              " pizza.ParmesanTopping}"
            ]
          },
          "metadata": {
            "tags": []
          },
          "execution_count": 228
        }
      ]
    },
    {
      "cell_type": "markdown",
      "metadata": {
        "id": "U6OVZZ2H8i_Q",
        "colab_type": "text"
      },
      "source": [
        "Select pizzas (pizza.FourCheesesTopping is special case)"
      ]
    },
    {
      "cell_type": "code",
      "metadata": {
        "id": "xuJd7jqu77PS",
        "colab_type": "code",
        "colab": {
          "base_uri": "https://localhost:8080/",
          "height": 146
        },
        "outputId": "37745778-ee75-46b1-c453-a05b1d128f62"
      },
      "source": [
        "[x \n",
        "    for x in pizza.NamedPizza.descendants() \n",
        "    if x.hasTopping \n",
        "       and ( len(cheeseToppings.intersection(set(x.hasTopping)))>=2 or pizza.FourCheesesTopping in x.hasTopping)\n",
        "]"
      ],
      "execution_count": 230,
      "outputs": [
        {
          "output_type": "execute_result",
          "data": {
            "text/plain": [
              "[pizza.Parmense,\n",
              " pizza.QuattroFormaggi,\n",
              " pizza.Fiorentina,\n",
              " pizza.PrinceCarlo,\n",
              " pizza.Rosa,\n",
              " pizza.Caprina,\n",
              " pizza.Soho]"
            ]
          },
          "metadata": {
            "tags": []
          },
          "execution_count": 230
        }
      ]
    },
    {
      "cell_type": "markdown",
      "metadata": {
        "id": "uuiJR5Y5Yb7X",
        "colab_type": "text"
      },
      "source": [
        "## Ex5: Group pizzas by country"
      ]
    },
    {
      "cell_type": "code",
      "metadata": {
        "id": "zL7knY--Ya4H",
        "colab_type": "code",
        "colab": {
          "base_uri": "https://localhost:8080/",
          "height": 127
        },
        "outputId": "153edf29-cbbe-48ea-822a-4529879e358d"
      },
      "source": [
        "[(x.hasCountryOfOrigin,x) for x in onto.classes() if x.hasCountryOfOrigin]"
      ],
      "execution_count": 11,
      "outputs": [
        {
          "output_type": "execute_result",
          "data": {
            "text/plain": [
              "[([pizza.America], pizza.American),\n",
              " ([pizza.Italy], pizza.MozzarellaTopping),\n",
              " ([pizza.America], pizza.AmericanHot),\n",
              " ([pizza.Italy], pizza.Napoletana),\n",
              " ([pizza.Italy], pizza.RealItalianPizza),\n",
              " ([pizza.Italy], pizza.Veneziana)]"
            ]
          },
          "metadata": {
            "tags": []
          },
          "execution_count": 11
        }
      ]
    },
    {
      "cell_type": "code",
      "metadata": {
        "id": "AZYH53_Q7-zj",
        "colab_type": "code",
        "colab": {}
      },
      "source": [
        "tmp=[(x.hasCountryOfOrigin[0],x) for x in onto.classes() if x.hasCountryOfOrigin]"
      ],
      "execution_count": 0,
      "outputs": []
    },
    {
      "cell_type": "code",
      "metadata": {
        "id": "D1R7CdfH_pul",
        "colab_type": "code",
        "colab": {
          "base_uri": "https://localhost:8080/",
          "height": 109
        },
        "outputId": "93a3a844-3ea4-452f-c593-94d306411cb2"
      },
      "source": [
        "by_country={}\n",
        "for c,p in tmp:\n",
        "  if c not in by_country:\n",
        "    by_country[c]=[]\n",
        "  by_country[c].append(p)\n",
        "by_country"
      ],
      "execution_count": 14,
      "outputs": [
        {
          "output_type": "execute_result",
          "data": {
            "text/plain": [
              "{pizza.America: [pizza.American, pizza.AmericanHot],\n",
              " pizza.Italy: [pizza.MozzarellaTopping,\n",
              "  pizza.Napoletana,\n",
              "  pizza.RealItalianPizza,\n",
              "  pizza.Veneziana]}"
            ]
          },
          "metadata": {
            "tags": []
          },
          "execution_count": 14
        }
      ]
    },
    {
      "cell_type": "markdown",
      "metadata": {
        "id": "D1MJXI8YZ32S",
        "colab_type": "text"
      },
      "source": [
        "## Ex6: Show ingrediends of a given pizza"
      ]
    },
    {
      "cell_type": "code",
      "metadata": {
        "id": "gsXCylO1_sgd",
        "colab_type": "code",
        "colab": {}
      },
      "source": [
        "given_pizza=pizza.American"
      ],
      "execution_count": 0,
      "outputs": []
    },
    {
      "cell_type": "code",
      "metadata": {
        "id": "S9bQoCXPaEDt",
        "colab_type": "code",
        "colab": {
          "base_uri": "https://localhost:8080/",
          "height": 35
        },
        "outputId": "29b45a29-15b4-43a1-82b9-8a7ee06d6c70"
      },
      "source": [
        "for t in given_pizza.hasTopping:\n",
        "  print(t)\n",
        "  print(t.)"
      ],
      "execution_count": 16,
      "outputs": [
        {
          "output_type": "execute_result",
          "data": {
            "text/plain": [
              "[pizza.TomatoTopping, pizza.MozzarellaTopping, pizza.PeperoniSausageTopping]"
            ]
          },
          "metadata": {
            "tags": []
          },
          "execution_count": 16
        }
      ]
    },
    {
      "cell_type": "code",
      "metadata": {
        "id": "xPm1q33CaOo0",
        "colab_type": "code",
        "colab": {}
      },
      "source": [
        "given_pizza.hasBase"
      ],
      "execution_count": 0,
      "outputs": []
    },
    {
      "cell_type": "markdown",
      "metadata": {
        "id": "SvDwbKBbak6I",
        "colab_type": "text"
      },
      "source": [
        "## Ex7: Search pizza by topping"
      ]
    },
    {
      "cell_type": "code",
      "metadata": {
        "id": "mK0gjjMZagVN",
        "colab_type": "code",
        "colab": {}
      },
      "source": [
        "the_topping = pizza.MushroomTopping"
      ],
      "execution_count": 0,
      "outputs": []
    },
    {
      "cell_type": "code",
      "metadata": {
        "id": "tdyL2NFJavK1",
        "colab_type": "code",
        "colab": {
          "base_uri": "https://localhost:8080/",
          "height": 35
        },
        "outputId": "af566d70-cd7d-427c-dc4a-95fccb30b3f4"
      },
      "source": [
        "[x for x in onto.classes() if x.hasTopping and the_topping in x.hasTopping]"
      ],
      "execution_count": 22,
      "outputs": [
        {
          "output_type": "execute_result",
          "data": {
            "text/plain": [
              "[pizza.FourSeasons, pizza.Giardiniera, pizza.LaReine, pizza.Mushroom]"
            ]
          },
          "metadata": {
            "tags": []
          },
          "execution_count": 22
        }
      ]
    },
    {
      "cell_type": "markdown",
      "metadata": {
        "id": "BTF-AJNmcbK6",
        "colab_type": "text"
      },
      "source": [
        "## Ex8: Show toppings grouped by types"
      ]
    },
    {
      "cell_type": "code",
      "metadata": {
        "id": "aoNx00o3bCPe",
        "colab_type": "code",
        "colab": {
          "base_uri": "https://localhost:8080/",
          "height": 201
        },
        "outputId": "05ccbf3f-8c0d-4b87-f2c8-830dcca86283"
      },
      "source": [
        "list(pizza.PizzaTopping.subclasses())"
      ],
      "execution_count": 24,
      "outputs": [
        {
          "output_type": "execute_result",
          "data": {
            "text/plain": [
              "[pizza.FishTopping,\n",
              " pizza.VegetableTopping,\n",
              " pizza.HerbSpiceTopping,\n",
              " pizza.CheeseTopping,\n",
              " pizza.MeatTopping,\n",
              " pizza.FruitTopping,\n",
              " pizza.NutTopping,\n",
              " pizza.SauceTopping,\n",
              " pizza.SpicyTopping,\n",
              " pizza.VegetarianTopping]"
            ]
          },
          "metadata": {
            "tags": []
          },
          "execution_count": 24
        }
      ]
    },
    {
      "cell_type": "code",
      "metadata": {
        "id": "YivzlN7dc9ut",
        "colab_type": "code",
        "colab": {
          "base_uri": "https://localhost:8080/",
          "height": 404
        },
        "outputId": "d98dacdc-98d4-4418-d6c8-29412d9026e6"
      },
      "source": [
        "for x in list(pizza.PizzaTopping.subclasses()):\n",
        "  print(x)\n",
        "  print(x.descendants())"
      ],
      "execution_count": 25,
      "outputs": [
        {
          "output_type": "stream",
          "text": [
            "pizza.FishTopping\n",
            "{pizza.AnchoviesTopping, pizza.PrawnsTopping, pizza.FishTopping, pizza.MixedSeafoodTopping}\n",
            "pizza.VegetableTopping\n",
            "{pizza.JalapenoPepperTopping, pizza.CaperTopping, pizza.SpinachTopping, pizza.HotGreenPepperTopping, pizza.GarlicTopping, pizza.GreenPepperTopping, pizza.RocketTopping, pizza.SlicedTomatoTopping, pizza.TomatoTopping, pizza.CheeseyVegetableTopping, pizza.LeekTopping, pizza.PeperonataTopping, pizza.AsparagusTopping, pizza.ArtichokeTopping, pizza.OliveTopping, pizza.MushroomTopping, pizza.OnionTopping, owl.Nothing, pizza.IceCream, pizza.PepperTopping, pizza.VegetableTopping, pizza.PetitPoisTopping, pizza.SweetPepperTopping, pizza.SundriedTomatoTopping, pizza.RedOnionTopping}\n",
            "pizza.HerbSpiceTopping\n",
            "{pizza.RosemaryTopping, pizza.CajunSpiceTopping, pizza.HerbSpiceTopping}\n",
            "pizza.CheeseTopping\n",
            "{pizza.FourCheesesTopping, pizza.CheeseyVegetableTopping, pizza.ParmesanTopping, pizza.GoatsCheeseTopping, pizza.MozzarellaTopping, pizza.CheeseTopping, owl.Nothing, pizza.IceCream, pizza.GorgonzolaTopping}\n",
            "pizza.MeatTopping\n",
            "{pizza.ChickenTopping, pizza.HamTopping, pizza.PeperoniSausageTopping, pizza.MeatTopping, pizza.ParmaHamTopping, pizza.HotSpicedBeefTopping}\n",
            "pizza.FruitTopping\n",
            "{pizza.FruitTopping, pizza.SultanaTopping}\n",
            "pizza.NutTopping\n",
            "{pizza.PineKernels, pizza.NutTopping}\n",
            "pizza.SauceTopping\n",
            "{pizza.TobascoPepperSauce, pizza.SauceTopping}\n",
            "pizza.SpicyTopping\n",
            "{pizza.JalapenoPepperTopping, pizza.HotGreenPepperTopping, pizza.SpicyTopping, pizza.CajunSpiceTopping, pizza.HotSpicedBeefTopping, pizza.TobascoPepperSauce}\n",
            "pizza.VegetarianTopping\n",
            "{pizza.SultanaTopping, pizza.JalapenoPepperTopping, pizza.CaperTopping, pizza.SpinachTopping, pizza.HotGreenPepperTopping, pizza.GarlicTopping, pizza.GreenPepperTopping, pizza.RedOnionTopping, pizza.HerbSpiceTopping, pizza.RocketTopping, pizza.TomatoTopping, pizza.SauceTopping, pizza.SlicedTomatoTopping, pizza.CheeseyVegetableTopping, pizza.LeekTopping, pizza.PeperonataTopping, pizza.AsparagusTopping, pizza.MozzarellaTopping, pizza.GoatsCheeseTopping, pizza.VegetarianTopping, pizza.NutTopping, pizza.ArtichokeTopping, pizza.OliveTopping, pizza.MushroomTopping, pizza.OnionTopping, pizza.FourCheesesTopping, pizza.RosemaryTopping, pizza.ParmesanTopping, owl.Nothing, pizza.IceCream, pizza.PepperTopping, pizza.CajunSpiceTopping, pizza.GorgonzolaTopping, pizza.TobascoPepperSauce, pizza.VegetableTopping, pizza.PetitPoisTopping, pizza.SweetPepperTopping, pizza.PineKernels, pizza.SundriedTomatoTopping, pizza.CheeseTopping, pizza.FruitTopping}\n"
          ],
          "name": "stdout"
        }
      ]
    },
    {
      "cell_type": "markdown",
      "metadata": {
        "id": "c8vvDvK_sszk",
        "colab_type": "text"
      },
      "source": [
        "## Ex9: Show pizzas that don't have a given topping"
      ]
    },
    {
      "cell_type": "code",
      "metadata": {
        "id": "RH4SQ93xj64v",
        "colab_type": "code",
        "colab": {}
      },
      "source": [
        "prohibited_topping=pizza.FishTopping\n"
      ],
      "execution_count": 0,
      "outputs": []
    },
    {
      "cell_type": "code",
      "metadata": {
        "id": "A-Hh5Oi8LjgK",
        "colab_type": "code",
        "colab": {
          "base_uri": "https://localhost:8080/",
          "height": 421
        },
        "outputId": "4da8b0bd-ce0a-42ba-fc82-1af7023b2ca8"
      },
      "source": [
        "[x \n",
        "    for x in pizza.NamedPizza.descendants() \n",
        "    if x.hasTopping \n",
        "       and ( prohibited_topping not in x.hasTopping)\n",
        "]"
      ],
      "execution_count": 13,
      "outputs": [
        {
          "output_type": "execute_result",
          "data": {
            "text/plain": [
              "[pizza.Margherita,\n",
              " pizza.SloppyGiuseppe,\n",
              " pizza.Fiorentina,\n",
              " pizza.Rosa,\n",
              " pizza.QuattroFormaggi,\n",
              " pizza.Giardiniera,\n",
              " pizza.Cajun,\n",
              " pizza.Caprina,\n",
              " pizza.Parmense,\n",
              " pizza.American,\n",
              " pizza.FourSeasons,\n",
              " pizza.Mushroom,\n",
              " pizza.Soho,\n",
              " pizza.LaReine,\n",
              " pizza.Siciliana,\n",
              " pizza.AmericanHot,\n",
              " pizza.PrinceCarlo,\n",
              " pizza.PolloAdAstra,\n",
              " pizza.FruttiDiMare,\n",
              " pizza.Veneziana,\n",
              " pizza.Napoletana,\n",
              " pizza.Capricciosa]"
            ]
          },
          "metadata": {
            "tags": []
          },
          "execution_count": 13
        }
      ]
    },
    {
      "cell_type": "markdown",
      "metadata": {
        "id": "9HvqKv9SNh8b",
        "colab_type": "text"
      },
      "source": [
        "## Ex10: Show existing ingredient pairs and their frequency"
      ]
    },
    {
      "cell_type": "code",
      "metadata": {
        "id": "J_zQyNxjQZI1",
        "colab_type": "code",
        "colab": {}
      },
      "source": [
        "pizzas=[x \n",
        "    for x in onto.classes() \n",
        "    if x.hasTopping\n",
        "]"
      ],
      "execution_count": 0,
      "outputs": []
    },
    {
      "cell_type": "code",
      "metadata": {
        "id": "vskueH7piEb4",
        "colab_type": "code",
        "colab": {
          "base_uri": "https://localhost:8080/",
          "height": 1000
        },
        "outputId": "e55d6894-5bba-4d08-d293-58d599e1e382"
      },
      "source": [
        "pairs=dict()\n",
        "for x in pizzas:\n",
        "  t=list(x.hasTopping)\n",
        "  for i in range(0, len(t)):\n",
        "    for j in range(i+1, len(t)):\n",
        "      try:\n",
        "        key='+'.join(sorted([t[i].name, t[j].name]))\n",
        "        if key in pairs:\n",
        "          pairs[key] +=1\n",
        "        else:\n",
        "          pairs[key] =1\n",
        "      except:\n",
        "        pass\n",
        "\n",
        "for k in pairs:\n",
        "  print( (k, pairs[k]) )\n"
      ],
      "execution_count": 53,
      "outputs": [
        {
          "output_type": "stream",
          "text": [
            "('MozzarellaTopping+PeperoniSausageTopping', 3)\n",
            "('PeperoniSausageTopping+TomatoTopping', 3)\n",
            "('MozzarellaTopping+TomatoTopping', 20)\n",
            "('JalapenoPepperTopping+MozzarellaTopping', 1)\n",
            "('JalapenoPepperTopping+TomatoTopping', 1)\n",
            "('JalapenoPepperTopping+PeperoniSausageTopping', 1)\n",
            "('HotGreenPepperTopping+JalapenoPepperTopping', 1)\n",
            "('HotGreenPepperTopping+MozzarellaTopping', 1)\n",
            "('HotGreenPepperTopping+TomatoTopping', 1)\n",
            "('HotGreenPepperTopping+PeperoniSausageTopping', 1)\n",
            "('MozzarellaTopping+PeperonataTopping', 3)\n",
            "('MozzarellaTopping+TobascoPepperSauce', 1)\n",
            "('MozzarellaTopping+PrawnsTopping', 1)\n",
            "('MozzarellaTopping+OnionTopping', 3)\n",
            "('PeperonataTopping+TobascoPepperSauce', 1)\n",
            "('PeperonataTopping+TomatoTopping', 3)\n",
            "('PeperonataTopping+PrawnsTopping', 1)\n",
            "('OnionTopping+PeperonataTopping', 1)\n",
            "('TobascoPepperSauce+TomatoTopping', 1)\n",
            "('PrawnsTopping+TobascoPepperSauce', 1)\n",
            "('OnionTopping+TobascoPepperSauce', 1)\n",
            "('PrawnsTopping+TomatoTopping', 1)\n",
            "('OnionTopping+TomatoTopping', 3)\n",
            "('OnionTopping+PrawnsTopping', 1)\n",
            "('AnchoviesTopping+MozzarellaTopping', 4)\n",
            "('MozzarellaTopping+OliveTopping', 9)\n",
            "('HamTopping+MozzarellaTopping', 4)\n",
            "('CaperTopping+MozzarellaTopping', 4)\n",
            "('AnchoviesTopping+PeperonataTopping', 1)\n",
            "('OliveTopping+PeperonataTopping', 2)\n",
            "('HamTopping+PeperonataTopping', 1)\n",
            "('CaperTopping+PeperonataTopping', 1)\n",
            "('AnchoviesTopping+OliveTopping', 4)\n",
            "('AnchoviesTopping+TomatoTopping', 4)\n",
            "('AnchoviesTopping+HamTopping', 2)\n",
            "('AnchoviesTopping+CaperTopping', 3)\n",
            "('OliveTopping+TomatoTopping', 9)\n",
            "('HamTopping+OliveTopping', 3)\n",
            "('CaperTopping+OliveTopping', 4)\n",
            "('HamTopping+TomatoTopping', 4)\n",
            "('CaperTopping+TomatoTopping', 4)\n",
            "('CaperTopping+HamTopping', 1)\n",
            "('GoatsCheeseTopping+SundriedTomatoTopping', 1)\n",
            "('GoatsCheeseTopping+TomatoTopping', 1)\n",
            "('GoatsCheeseTopping+MozzarellaTopping', 1)\n",
            "('SundriedTomatoTopping+TomatoTopping', 1)\n",
            "('MozzarellaTopping+SundriedTomatoTopping', 1)\n",
            "('GarlicTopping+MozzarellaTopping', 4)\n",
            "('GarlicTopping+ParmesanTopping', 2)\n",
            "('GarlicTopping+OliveTopping', 3)\n",
            "('GarlicTopping+TomatoTopping', 5)\n",
            "('GarlicTopping+SpinachTopping', 1)\n",
            "('MozzarellaTopping+ParmesanTopping', 4)\n",
            "('MozzarellaTopping+SpinachTopping', 1)\n",
            "('OliveTopping+ParmesanTopping', 2)\n",
            "('ParmesanTopping+TomatoTopping', 4)\n",
            "('ParmesanTopping+SpinachTopping', 1)\n",
            "('OliveTopping+SpinachTopping', 1)\n",
            "('SpinachTopping+TomatoTopping', 1)\n",
            "('MozzarellaTopping+MushroomTopping', 4)\n",
            "('AnchoviesTopping+MushroomTopping', 1)\n",
            "('AnchoviesTopping+PeperoniSausageTopping', 1)\n",
            "('MushroomTopping+OliveTopping', 3)\n",
            "('MushroomTopping+TomatoTopping', 4)\n",
            "('MushroomTopping+PeperoniSausageTopping', 1)\n",
            "('CaperTopping+MushroomTopping', 1)\n",
            "('OliveTopping+PeperoniSausageTopping', 1)\n",
            "('CaperTopping+PeperoniSausageTopping', 1)\n",
            "('GarlicTopping+MixedSeafoodTopping', 1)\n",
            "('MixedSeafoodTopping+TomatoTopping', 1)\n",
            "('MozzarellaTopping+SlicedTomatoTopping', 1)\n",
            "('MozzarellaTopping+PetitPoisTopping', 1)\n",
            "('LeekTopping+MozzarellaTopping', 2)\n",
            "('MushroomTopping+PeperonataTopping', 1)\n",
            "('PeperonataTopping+SlicedTomatoTopping', 1)\n",
            "('PeperonataTopping+PetitPoisTopping', 1)\n",
            "('LeekTopping+PeperonataTopping', 1)\n",
            "('MushroomTopping+SlicedTomatoTopping', 1)\n",
            "('MushroomTopping+PetitPoisTopping', 1)\n",
            "('LeekTopping+MushroomTopping', 1)\n",
            "('OliveTopping+SlicedTomatoTopping', 1)\n",
            "('OliveTopping+PetitPoisTopping', 1)\n",
            "('LeekTopping+OliveTopping', 1)\n",
            "('SlicedTomatoTopping+TomatoTopping', 1)\n",
            "('PetitPoisTopping+SlicedTomatoTopping', 1)\n",
            "('LeekTopping+SlicedTomatoTopping', 1)\n",
            "('PetitPoisTopping+TomatoTopping', 1)\n",
            "('LeekTopping+TomatoTopping', 2)\n",
            "('LeekTopping+PetitPoisTopping', 1)\n",
            "('HamTopping+MushroomTopping', 1)\n",
            "('AsparagusTopping+ParmesanTopping', 1)\n",
            "('AsparagusTopping+MozzarellaTopping', 1)\n",
            "('AsparagusTopping+TomatoTopping', 1)\n",
            "('AsparagusTopping+HamTopping', 1)\n",
            "('HamTopping+ParmesanTopping', 1)\n",
            "('GarlicTopping+SweetPepperTopping', 1)\n",
            "('CajunSpiceTopping+GarlicTopping', 1)\n",
            "('GarlicTopping+RedOnionTopping', 1)\n",
            "('ChickenTopping+GarlicTopping', 1)\n",
            "('MozzarellaTopping+SweetPepperTopping', 1)\n",
            "('CajunSpiceTopping+MozzarellaTopping', 1)\n",
            "('MozzarellaTopping+RedOnionTopping', 1)\n",
            "('ChickenTopping+MozzarellaTopping', 1)\n",
            "('CajunSpiceTopping+SweetPepperTopping', 1)\n",
            "('SweetPepperTopping+TomatoTopping', 1)\n",
            "('RedOnionTopping+SweetPepperTopping', 1)\n",
            "('ChickenTopping+SweetPepperTopping', 1)\n",
            "('CajunSpiceTopping+TomatoTopping', 1)\n",
            "('CajunSpiceTopping+RedOnionTopping', 1)\n",
            "('CajunSpiceTopping+ChickenTopping', 1)\n",
            "('RedOnionTopping+TomatoTopping', 1)\n",
            "('ChickenTopping+TomatoTopping', 1)\n",
            "('ChickenTopping+RedOnionTopping', 1)\n",
            "('MozzarellaTopping+RosemaryTopping', 1)\n",
            "('ParmesanTopping+RosemaryTopping', 1)\n",
            "('RosemaryTopping+TomatoTopping', 1)\n",
            "('LeekTopping+RosemaryTopping', 1)\n",
            "('LeekTopping+ParmesanTopping', 1)\n",
            "('FourCheesesTopping+TomatoTopping', 1)\n",
            "('GorgonzolaTopping+MozzarellaTopping', 1)\n",
            "('GorgonzolaTopping+TomatoTopping', 1)\n",
            "('ArtichokeTopping+MozzarellaTopping', 1)\n",
            "('ArtichokeTopping+GarlicTopping', 1)\n",
            "('AnchoviesTopping+GarlicTopping', 1)\n",
            "('GarlicTopping+HamTopping', 1)\n",
            "('AnchoviesTopping+ArtichokeTopping', 1)\n",
            "('ArtichokeTopping+OliveTopping', 1)\n",
            "('ArtichokeTopping+TomatoTopping', 1)\n",
            "('ArtichokeTopping+HamTopping', 1)\n",
            "('GreenPepperTopping+MozzarellaTopping', 1)\n",
            "('GreenPepperTopping+HotSpicedBeefTopping', 1)\n",
            "('GreenPepperTopping+TomatoTopping', 1)\n",
            "('GreenPepperTopping+OnionTopping', 1)\n",
            "('HotSpicedBeefTopping+MozzarellaTopping', 1)\n",
            "('HotSpicedBeefTopping+TomatoTopping', 1)\n",
            "('HotSpicedBeefTopping+OnionTopping', 1)\n",
            "('GarlicTopping+RocketTopping', 1)\n",
            "('MozzarellaTopping+RocketTopping', 1)\n",
            "('ParmesanTopping+RocketTopping', 1)\n",
            "('OliveTopping+RocketTopping', 1)\n",
            "('RocketTopping+TomatoTopping', 1)\n",
            "('MozzarellaTopping+SultanaTopping', 1)\n",
            "('MozzarellaTopping+PineKernels', 1)\n",
            "('OliveTopping+SultanaTopping', 1)\n",
            "('OliveTopping+OnionTopping', 1)\n",
            "('OliveTopping+PineKernels', 1)\n",
            "('SultanaTopping+TomatoTopping', 1)\n",
            "('PineKernels+TomatoTopping', 1)\n",
            "('CaperTopping+SultanaTopping', 1)\n",
            "('CaperTopping+OnionTopping', 1)\n",
            "('CaperTopping+PineKernels', 1)\n",
            "('OnionTopping+SultanaTopping', 1)\n",
            "('PineKernels+SultanaTopping', 1)\n",
            "('OnionTopping+PineKernels', 1)\n"
          ],
          "name": "stdout"
        }
      ]
    },
    {
      "cell_type": "markdown",
      "metadata": {
        "id": "0mbdVzjeWtWM",
        "colab_type": "text"
      },
      "source": [
        "#TODO"
      ]
    },
    {
      "cell_type": "code",
      "metadata": {
        "id": "MepGFncbQnzF",
        "colab_type": "code",
        "colab": {
          "base_uri": "https://localhost:8080/",
          "height": 35
        },
        "outputId": "74178012-1838-4f7c-a687-b47d92ef6921"
      },
      "source": [
        "t[3].name"
      ],
      "execution_count": 46,
      "outputs": [
        {
          "output_type": "execute_result",
          "data": {
            "text/plain": [
              "'CaperTopping'"
            ]
          },
          "metadata": {
            "tags": []
          },
          "execution_count": 46
        }
      ]
    },
    {
      "cell_type": "code",
      "metadata": {
        "id": "XM-M9ltHiYxr",
        "colab_type": "code",
        "colab": {}
      },
      "source": [
        "2.12) Сформувати меню (назва піцци, рівень гостроти, країна походження, склад)\n",
        "2.13) Сформувати вегетаріанське меню (назва піцци, рівень гостроти, країна походження, склад)\n",
        "2.14) Підрахувати кількість різновидів піцци для кожного із видів начинки"
      ],
      "execution_count": 0,
      "outputs": []
    }
  ]
}