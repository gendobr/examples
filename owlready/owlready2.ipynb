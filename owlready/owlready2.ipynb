{
  "nbformat": 4,
  "nbformat_minor": 0,
  "metadata": {
    "colab": {
      "name": "owlready2.ipynb",
      "provenance": []
    },
    "kernelspec": {
      "name": "python3",
      "display_name": "Python 3"
    }
  },
  "cells": [
    {
      "cell_type": "markdown",
      "metadata": {
        "id": "QEY-Tt4U3QnJ",
        "colab_type": "text"
      },
      "source": [
        "# Initial actions"
      ]
    },
    {
      "cell_type": "markdown",
      "metadata": {
        "id": "jFXwdBsX2C0F",
        "colab_type": "text"
      },
      "source": [
        "Before we start, we need to install owlready2:"
      ]
    },
    {
      "cell_type": "code",
      "metadata": {
        "id": "9ToDrqL54s-l",
        "colab_type": "code",
        "colab": {
          "base_uri": "https://localhost:8080/",
          "height": 201
        },
        "outputId": "c11c023a-516f-412f-b86f-6f7d8e3c233f"
      },
      "source": [
        "!pip install owlready2"
      ],
      "execution_count": 2,
      "outputs": [
        {
          "output_type": "stream",
          "text": [
            "Collecting owlready2\n",
            "\u001b[?25l  Downloading https://files.pythonhosted.org/packages/13/1d/d9efef926bddd80923196b20ca7ea433642de78d253784e73ce1cc22600e/Owlready2-0.21.tar.gz (20.0MB)\n",
            "\u001b[K     |████████████████████████████████| 20.0MB 1.4MB/s \n",
            "\u001b[?25hBuilding wheels for collected packages: owlready2\n",
            "  Building wheel for owlready2 (setup.py) ... \u001b[?25l\u001b[?25hdone\n",
            "  Created wheel for owlready2: filename=Owlready2-0.21-cp36-cp36m-linux_x86_64.whl size=20252152 sha256=cbc32ce7d52660748e2c3ea3612546ccc099a8a3493f83ac341c976f3b53d1aa\n",
            "  Stored in directory: /root/.cache/pip/wheels/10/fd/59/e35a4545fff96706a24ebf02bf5ba2f9da772c88d66d05b03b\n",
            "Successfully built owlready2\n",
            "Installing collected packages: owlready2\n",
            "Successfully installed owlready2-0.21\n"
          ],
          "name": "stdout"
        }
      ]
    },
    {
      "cell_type": "markdown",
      "metadata": {
        "id": "zLBGEP7t2PN4",
        "colab_type": "text"
      },
      "source": [
        "Then we import the library"
      ]
    },
    {
      "cell_type": "code",
      "metadata": {
        "id": "ZDd9iN4MBQ3b",
        "colab_type": "code",
        "colab": {}
      },
      "source": [
        "from owlready2 import *"
      ],
      "execution_count": 0,
      "outputs": []
    },
    {
      "cell_type": "markdown",
      "metadata": {
        "id": "sw9x1EgR2TeO",
        "colab_type": "text"
      },
      "source": [
        "and load the pizza ontology"
      ]
    },
    {
      "cell_type": "code",
      "metadata": {
        "id": "mL0OFBtv5aWN",
        "colab_type": "code",
        "colab": {
          "base_uri": "https://localhost:8080/",
          "height": 35
        },
        "outputId": "41b94917-1977-4077-843e-d238fe6195e7"
      },
      "source": [
        "onto_path.append(\"/home/cache\")\n",
        "onto = get_ontology(\"https://raw.githubusercontent.com/owlcs/pizza-ontology/master/pizza.owl\")\n",
        "onto.load()"
      ],
      "execution_count": 4,
      "outputs": [
        {
          "output_type": "execute_result",
          "data": {
            "text/plain": [
              "get_ontology(\"http://www.co-ode.org/ontologies/pizza/\")"
            ]
          },
          "metadata": {
            "tags": []
          },
          "execution_count": 4
        }
      ]
    },
    {
      "cell_type": "markdown",
      "metadata": {
        "id": "CKgY36IS2ZnK",
        "colab_type": "text"
      },
      "source": [
        "The URL of the pizza.owl is different from namespace.\n",
        "So we load the correct namespace."
      ]
    },
    {
      "cell_type": "code",
      "metadata": {
        "id": "fa6TN6rV2XS_",
        "colab_type": "code",
        "colab": {}
      },
      "source": [
        "pizza = onto.get_namespace('http://www.co-ode.org/ontologies/pizza/pizza.owl')"
      ],
      "execution_count": 0,
      "outputs": []
    },
    {
      "cell_type": "markdown",
      "metadata": {
        "id": "8QKS6sGf2myI",
        "colab_type": "text"
      },
      "source": [
        "Then we start the reasoner to build missing relations"
      ]
    },
    {
      "cell_type": "code",
      "metadata": {
        "id": "Lp9Pe8EOlOZ6",
        "colab_type": "code",
        "colab": {
          "base_uri": "https://localhost:8080/",
          "height": 166
        },
        "outputId": "c7afe0d7-f67f-4fe6-dc9e-c6ba8f8e4875"
      },
      "source": [
        "sync_reasoner()"
      ],
      "execution_count": 6,
      "outputs": [
        {
          "output_type": "stream",
          "text": [
            "* Owlready2 * Running HermiT...\n",
            "    java -Xmx2000M -cp /usr/local/lib/python3.6/dist-packages/owlready2/hermit:/usr/local/lib/python3.6/dist-packages/owlready2/hermit/HermiT.jar org.semanticweb.HermiT.cli.CommandLine -c -O -D -I file:////tmp/tmp1d33im84\n",
            "* Owlready2 * HermiT took 3.1577329635620117 seconds\n",
            "* Owlready * Reparenting pizza.isBaseOf: {owl.ObjectProperty, owl.InverseFunctionalProperty, owl.FunctionalProperty, pizza.isIngredientOf} => {owl.FunctionalProperty, owl.InverseFunctionalProperty, pizza.isIngredientOf}\n",
            "* Owlready * Reparenting pizza.hasBase: {owl.ObjectProperty, pizza.hasIngredient, owl.InverseFunctionalProperty, owl.FunctionalProperty} => {owl.FunctionalProperty, pizza.hasIngredient, owl.InverseFunctionalProperty}\n",
            "* Owlready * Reparenting pizza.hasTopping: {owl.ObjectProperty, pizza.hasIngredient, owl.InverseFunctionalProperty} => {pizza.hasIngredient, owl.InverseFunctionalProperty}\n",
            "* Owlready * (NB: only changes on entities loaded in Python are shown, other changes are done but not listed)\n"
          ],
          "name": "stderr"
        }
      ]
    },
    {
      "cell_type": "markdown",
      "metadata": {
        "id": "8p2m_SvA2wfM",
        "colab_type": "text"
      },
      "source": [
        "Show all defined classes:"
      ]
    },
    {
      "cell_type": "code",
      "metadata": {
        "id": "1hXadDln6ZTM",
        "colab_type": "code",
        "colab": {
          "base_uri": "https://localhost:8080/",
          "height": 1000
        },
        "outputId": "7ffe067b-abc5-4954-99ee-5d73d119b7a3"
      },
      "source": [
        "list(onto.classes())"
      ],
      "execution_count": 7,
      "outputs": [
        {
          "output_type": "execute_result",
          "data": {
            "text/plain": [
              "[pizza.Pizza,\n",
              " pizza.PizzaBase,\n",
              " pizza.Food,\n",
              " pizza.Spiciness,\n",
              " pizza.PizzaTopping,\n",
              " pizza.American,\n",
              " pizza.NamedPizza,\n",
              " pizza.MozzarellaTopping,\n",
              " pizza.PeperoniSausageTopping,\n",
              " pizza.TomatoTopping,\n",
              " pizza.AmericanHot,\n",
              " pizza.HotGreenPepperTopping,\n",
              " pizza.JalapenoPepperTopping,\n",
              " pizza.AnchoviesTopping,\n",
              " pizza.FishTopping,\n",
              " pizza.ArtichokeTopping,\n",
              " pizza.VegetableTopping,\n",
              " pizza.Mild,\n",
              " pizza.AsparagusTopping,\n",
              " pizza.Cajun,\n",
              " pizza.OnionTopping,\n",
              " pizza.PeperonataTopping,\n",
              " pizza.PrawnsTopping,\n",
              " pizza.TobascoPepperSauce,\n",
              " pizza.CajunSpiceTopping,\n",
              " pizza.HerbSpiceTopping,\n",
              " pizza.Hot,\n",
              " pizza.RosemaryTopping,\n",
              " pizza.CaperTopping,\n",
              " pizza.Capricciosa,\n",
              " pizza.HamTopping,\n",
              " pizza.OliveTopping,\n",
              " pizza.Caprina,\n",
              " pizza.GoatsCheeseTopping,\n",
              " pizza.SundriedTomatoTopping,\n",
              " pizza.CheeseTopping,\n",
              " pizza.CheeseyPizza,\n",
              " pizza.CheeseyVegetableTopping,\n",
              " pizza.ChickenTopping,\n",
              " pizza.MeatTopping,\n",
              " pizza.Country,\n",
              " pizza.DomainConcept,\n",
              " pizza.DeepPanBase,\n",
              " pizza.ThinAndCrispyBase,\n",
              " pizza.ValuePartition,\n",
              " pizza.Fiorentina,\n",
              " pizza.GarlicTopping,\n",
              " pizza.ParmesanTopping,\n",
              " pizza.SpinachTopping,\n",
              " pizza.FourCheesesTopping,\n",
              " pizza.FourSeasons,\n",
              " pizza.MushroomTopping,\n",
              " pizza.FruitTopping,\n",
              " pizza.FruttiDiMare,\n",
              " pizza.MixedSeafoodTopping,\n",
              " pizza.Medium,\n",
              " pizza.Giardiniera,\n",
              " pizza.LeekTopping,\n",
              " pizza.PetitPoisTopping,\n",
              " pizza.SlicedTomatoTopping,\n",
              " pizza.GorgonzolaTopping,\n",
              " pizza.GreenPepperTopping,\n",
              " pizza.PepperTopping,\n",
              " pizza.HotSpicedBeefTopping,\n",
              " pizza.IceCream,\n",
              " pizza.InterestingPizza,\n",
              " pizza.LaReine,\n",
              " pizza.Margherita,\n",
              " pizza.MeatyPizza,\n",
              " pizza.Mushroom,\n",
              " pizza.Napoletana,\n",
              " pizza.NonVegetarianPizza,\n",
              " pizza.VegetarianPizza,\n",
              " pizza.NutTopping,\n",
              " pizza.ParmaHamTopping,\n",
              " pizza.Parmense,\n",
              " pizza.PineKernels,\n",
              " pizza.PolloAdAstra,\n",
              " pizza.RedOnionTopping,\n",
              " pizza.SweetPepperTopping,\n",
              " pizza.PrinceCarlo,\n",
              " pizza.QuattroFormaggi,\n",
              " pizza.RealItalianPizza,\n",
              " pizza.RocketTopping,\n",
              " pizza.Rosa,\n",
              " pizza.SauceTopping,\n",
              " pizza.Siciliana,\n",
              " pizza.SloppyGiuseppe,\n",
              " pizza.Soho,\n",
              " pizza.SpicyPizza,\n",
              " pizza.SpicyTopping,\n",
              " pizza.SpicyPizzaEquivalent,\n",
              " pizza.SultanaTopping,\n",
              " pizza.ThinAndCrispyPizza,\n",
              " pizza.UnclosedPizza,\n",
              " pizza.VegetarianPizzaEquivalent1,\n",
              " pizza.VegetarianTopping,\n",
              " pizza.VegetarianPizzaEquivalent2,\n",
              " pizza.Veneziana]"
            ]
          },
          "metadata": {
            "tags": []
          },
          "execution_count": 7
        }
      ]
    },
    {
      "cell_type": "markdown",
      "metadata": {
        "id": "qmcUlv095L1n",
        "colab_type": "text"
      },
      "source": [
        "All properties"
      ]
    },
    {
      "cell_type": "code",
      "metadata": {
        "id": "ow2U5lc15LGG",
        "colab_type": "code",
        "colab": {
          "base_uri": "https://localhost:8080/",
          "height": 311
        },
        "outputId": "3f9dc272-48ce-4f36-df83-a77459431b6d"
      },
      "source": [
        "list(onto.properties())"
      ],
      "execution_count": 8,
      "outputs": [
        {
          "output_type": "execute_result",
          "data": {
            "text/plain": [
              "[pizza.hasBase,\n",
              " pizza.hasIngredient,\n",
              " pizza.isBaseOf,\n",
              " pizza.hasCountryOfOrigin,\n",
              " pizza.isIngredientOf,\n",
              " pizza.hasSpiciness,\n",
              " pizza.hasTopping,\n",
              " pizza.isToppingOf,\n",
              " 1.1.title,\n",
              " terms.contributor,\n",
              " terms.license,\n",
              " terms.provenance,\n",
              " 1.1.description,\n",
              " core.altLabel,\n",
              " core.definition,\n",
              " core.prefLabel]"
            ]
          },
          "metadata": {
            "tags": []
          },
          "execution_count": 8
        }
      ]
    },
    {
      "cell_type": "markdown",
      "metadata": {
        "id": "GWBzMLkM2_J9",
        "colab_type": "text"
      },
      "source": [
        "# Show list of pizzas that have fish topping"
      ]
    },
    {
      "cell_type": "markdown",
      "metadata": {
        "id": "1kt2FhGd23r5",
        "colab_type": "text"
      },
      "source": [
        "Create set of fishToppings and its' descendants"
      ]
    },
    {
      "cell_type": "code",
      "metadata": {
        "id": "GIRfX08sC2px",
        "colab_type": "code",
        "colab": {
          "base_uri": "https://localhost:8080/",
          "height": 90
        },
        "outputId": "94b157b2-5308-4313-ab5b-ec4c3cb73b4d"
      },
      "source": [
        "fishToppingList=set(pizza.FishTopping.descendants())\n",
        "fishToppingList"
      ],
      "execution_count": 200,
      "outputs": [
        {
          "output_type": "execute_result",
          "data": {
            "text/plain": [
              "{pizza.AnchoviesTopping,\n",
              " pizza.FishTopping,\n",
              " pizza.MixedSeafoodTopping,\n",
              " pizza.PrawnsTopping}"
            ]
          },
          "metadata": {
            "tags": []
          },
          "execution_count": 200
        }
      ]
    },
    {
      "cell_type": "markdown",
      "metadata": {
        "id": "LBQlxOQB3X8P",
        "colab_type": "text"
      },
      "source": [
        "Display pizzas which have **hasTopping** property"
      ]
    },
    {
      "cell_type": "code",
      "metadata": {
        "id": "vXLU1SQWD5rZ",
        "colab_type": "code",
        "colab": {
          "base_uri": "https://localhost:8080/",
          "height": 568
        },
        "outputId": "c860ad4e-7405-47bd-e13f-42602f58eba9"
      },
      "source": [
        "[x for x in onto.classes() if x.hasTopping]"
      ],
      "execution_count": 198,
      "outputs": [
        {
          "output_type": "execute_result",
          "data": {
            "text/plain": [
              "[pizza.American,\n",
              " pizza.AmericanHot,\n",
              " pizza.Cajun,\n",
              " pizza.Capricciosa,\n",
              " pizza.Caprina,\n",
              " pizza.CheeseyPizza,\n",
              " pizza.Fiorentina,\n",
              " pizza.FourSeasons,\n",
              " pizza.FruttiDiMare,\n",
              " pizza.Giardiniera,\n",
              " pizza.IceCream,\n",
              " pizza.InterestingPizza,\n",
              " pizza.LaReine,\n",
              " pizza.Margherita,\n",
              " pizza.MeatyPizza,\n",
              " pizza.Mushroom,\n",
              " pizza.Napoletana,\n",
              " pizza.Parmense,\n",
              " pizza.PolloAdAstra,\n",
              " pizza.PrinceCarlo,\n",
              " pizza.QuattroFormaggi,\n",
              " pizza.Rosa,\n",
              " pizza.Siciliana,\n",
              " pizza.SloppyGiuseppe,\n",
              " pizza.Soho,\n",
              " pizza.SpicyPizza,\n",
              " pizza.SpicyPizzaEquivalent,\n",
              " pizza.UnclosedPizza,\n",
              " pizza.Veneziana,\n",
              " pizza.FishPizza]"
            ]
          },
          "metadata": {
            "tags": []
          },
          "execution_count": 198
        }
      ]
    },
    {
      "cell_type": "markdown",
      "metadata": {
        "id": "pXaJ5PZA3k6R",
        "colab_type": "text"
      },
      "source": [
        "Show classes that have fish toppings"
      ]
    },
    {
      "cell_type": "code",
      "metadata": {
        "id": "tOmSCGwcwp25",
        "colab_type": "code",
        "colab": {
          "base_uri": "https://localhost:8080/",
          "height": 164
        },
        "outputId": "2f0d1196-89cd-4afc-9b8b-9f21b39be3d3"
      },
      "source": [
        "[x for x in onto.classes() if x.hasTopping and len(fishToppingList.intersection(set(x.hasTopping)))>0]"
      ],
      "execution_count": 202,
      "outputs": [
        {
          "output_type": "execute_result",
          "data": {
            "text/plain": [
              "[pizza.Cajun,\n",
              " pizza.Capricciosa,\n",
              " pizza.FourSeasons,\n",
              " pizza.FruttiDiMare,\n",
              " pizza.IceCream,\n",
              " pizza.Napoletana,\n",
              " pizza.Siciliana,\n",
              " pizza.FishPizza]"
            ]
          },
          "metadata": {
            "tags": []
          },
          "execution_count": 202
        }
      ]
    },
    {
      "cell_type": "markdown",
      "metadata": {
        "id": "wDzSpyD_3yq1",
        "colab_type": "text"
      },
      "source": [
        "# Show pizzas with vegetable toppings"
      ]
    },
    {
      "cell_type": "markdown",
      "metadata": {
        "id": "rQvUyxgQ4Bfg",
        "colab_type": "text"
      },
      "source": [
        "Explore class names (pizza.OliveTopping is one of VegetableTopping)"
      ]
    },
    {
      "cell_type": "code",
      "metadata": {
        "id": "mKhCCFM_Cn7x",
        "colab_type": "code",
        "colab": {
          "base_uri": "https://localhost:8080/",
          "height": 35
        },
        "outputId": "604c280e-2e59-41a3-c487-996b36edb66b"
      },
      "source": [
        "pizza.OliveTopping.is_a"
      ],
      "execution_count": 204,
      "outputs": [
        {
          "output_type": "execute_result",
          "data": {
            "text/plain": [
              "[pizza.VegetableTopping, pizza.hasSpiciness.some(pizza.Mild)]"
            ]
          },
          "metadata": {
            "tags": []
          },
          "execution_count": 204
        }
      ]
    },
    {
      "cell_type": "markdown",
      "metadata": {
        "id": "VYOpvjBE4OxX",
        "colab_type": "text"
      },
      "source": [
        "Create a set of vegetable toppings"
      ]
    },
    {
      "cell_type": "code",
      "metadata": {
        "id": "9JaRqhIM3_4O",
        "colab_type": "code",
        "colab": {
          "base_uri": "https://localhost:8080/",
          "height": 439
        },
        "outputId": "852a3d7e-67c7-4409-d1f4-aff701122963"
      },
      "source": [
        "vegetableToppingList=set(pizza.VegetableTopping.descendants())\n",
        "vegetableToppingList"
      ],
      "execution_count": 205,
      "outputs": [
        {
          "output_type": "execute_result",
          "data": {
            "text/plain": [
              "{pizza.ArtichokeTopping,\n",
              " pizza.AsparagusTopping,\n",
              " pizza.CaperTopping,\n",
              " pizza.CheeseyVegetableTopping,\n",
              " pizza.GarlicTopping,\n",
              " pizza.GreenPepperTopping,\n",
              " pizza.HotGreenPepperTopping,\n",
              " pizza.JalapenoPepperTopping,\n",
              " pizza.LeekTopping,\n",
              " pizza.MushroomTopping,\n",
              " pizza.OliveTopping,\n",
              " pizza.OnionTopping,\n",
              " pizza.PeperonataTopping,\n",
              " pizza.PepperTopping,\n",
              " pizza.PetitPoisTopping,\n",
              " pizza.RedOnionTopping,\n",
              " pizza.RocketTopping,\n",
              " pizza.SlicedTomatoTopping,\n",
              " pizza.SpinachTopping,\n",
              " pizza.SundriedTomatoTopping,\n",
              " pizza.SweetPepperTopping,\n",
              " pizza.TomatoTopping,\n",
              " pizza.VegetableTopping}"
            ]
          },
          "metadata": {
            "tags": []
          },
          "execution_count": 205
        }
      ]
    },
    {
      "cell_type": "markdown",
      "metadata": {
        "id": "5rARQjaz4gma",
        "colab_type": "text"
      },
      "source": [
        "Show classes that have vegetable toppings"
      ]
    },
    {
      "cell_type": "code",
      "metadata": {
        "id": "BjjwbfkU4aXI",
        "colab_type": "code",
        "colab": {
          "base_uri": "https://localhost:8080/",
          "height": 421
        },
        "outputId": "0621404a-9a9e-4729-d6c2-8a3103d51200"
      },
      "source": [
        "[x for x in onto.classes() if x.hasTopping and len(vegetableToppingList.intersection(set(x.hasTopping)))>0]"
      ],
      "execution_count": 206,
      "outputs": [
        {
          "output_type": "execute_result",
          "data": {
            "text/plain": [
              "[pizza.American,\n",
              " pizza.AmericanHot,\n",
              " pizza.Cajun,\n",
              " pizza.Capricciosa,\n",
              " pizza.Caprina,\n",
              " pizza.Fiorentina,\n",
              " pizza.FourSeasons,\n",
              " pizza.FruttiDiMare,\n",
              " pizza.Giardiniera,\n",
              " pizza.LaReine,\n",
              " pizza.Margherita,\n",
              " pizza.Mushroom,\n",
              " pizza.Napoletana,\n",
              " pizza.Parmense,\n",
              " pizza.PolloAdAstra,\n",
              " pizza.PrinceCarlo,\n",
              " pizza.QuattroFormaggi,\n",
              " pizza.Rosa,\n",
              " pizza.Siciliana,\n",
              " pizza.SloppyGiuseppe,\n",
              " pizza.Soho,\n",
              " pizza.Veneziana]"
            ]
          },
          "metadata": {
            "tags": []
          },
          "execution_count": 206
        }
      ]
    },
    {
      "cell_type": "markdown",
      "metadata": {
        "id": "B9oBEb-s4wh7",
        "colab_type": "text"
      },
      "source": [
        "# Show pizzas with Hot spiciness"
      ]
    },
    {
      "cell_type": "markdown",
      "metadata": {
        "id": "BfvZusFc57Ex",
        "colab_type": "text"
      },
      "source": [
        "Explore structure"
      ]
    },
    {
      "cell_type": "code",
      "metadata": {
        "id": "SQdELtMj4n10",
        "colab_type": "code",
        "colab": {
          "base_uri": "https://localhost:8080/",
          "height": 35
        },
        "outputId": "060d32dd-c806-4026-ee02-d65ad37eb367"
      },
      "source": [
        "pizza.Spiciness.descendants()"
      ],
      "execution_count": 207,
      "outputs": [
        {
          "output_type": "execute_result",
          "data": {
            "text/plain": [
              "{pizza.Hot, pizza.Medium, pizza.Mild, pizza.Spiciness}"
            ]
          },
          "metadata": {
            "tags": []
          },
          "execution_count": 207
        }
      ]
    },
    {
      "cell_type": "code",
      "metadata": {
        "id": "jlNvsS_w4_0j",
        "colab_type": "code",
        "colab": {
          "base_uri": "https://localhost:8080/",
          "height": 35
        },
        "outputId": "5f93d0cd-3b90-45ee-ef2d-6718c3e41b12"
      },
      "source": [
        "pizza.CajunSpiceTopping.hasSpiciness"
      ],
      "execution_count": 213,
      "outputs": [
        {
          "output_type": "execute_result",
          "data": {
            "text/plain": [
              "pizza.Hot"
            ]
          },
          "metadata": {
            "tags": []
          },
          "execution_count": 213
        }
      ]
    },
    {
      "cell_type": "code",
      "metadata": {
        "id": "n0zd2X4t5G6f",
        "colab_type": "code",
        "colab": {
          "base_uri": "https://localhost:8080/",
          "height": 72
        },
        "outputId": "a854a24d-950d-42fd-f627-3a85220f18ee"
      },
      "source": [
        "pizza.CajunSpiceTopping.is_a"
      ],
      "execution_count": 214,
      "outputs": [
        {
          "output_type": "execute_result",
          "data": {
            "text/plain": [
              "[pizza.HerbSpiceTopping,\n",
              " pizza.hasSpiciness.some(pizza.Hot),\n",
              " pizza.SpicyTopping]"
            ]
          },
          "metadata": {
            "tags": []
          },
          "execution_count": 214
        }
      ]
    },
    {
      "cell_type": "code",
      "metadata": {
        "id": "tBMHYILP5f4S",
        "colab_type": "code",
        "colab": {
          "base_uri": "https://localhost:8080/",
          "height": 127
        },
        "outputId": "2e896e25-df14-4fe0-c4e3-0089a19c1cf9"
      },
      "source": [
        "pizza.SpicyTopping.descendants()"
      ],
      "execution_count": 215,
      "outputs": [
        {
          "output_type": "execute_result",
          "data": {
            "text/plain": [
              "{pizza.CajunSpiceTopping,\n",
              " pizza.HotGreenPepperTopping,\n",
              " pizza.HotSpicedBeefTopping,\n",
              " pizza.JalapenoPepperTopping,\n",
              " pizza.SpicyTopping,\n",
              " pizza.TobascoPepperSauce}"
            ]
          },
          "metadata": {
            "tags": []
          },
          "execution_count": 215
        }
      ]
    },
    {
      "cell_type": "markdown",
      "metadata": {
        "id": "4II6kzu76AYL",
        "colab_type": "text"
      },
      "source": [
        "Filter SpicyToppings"
      ]
    },
    {
      "cell_type": "code",
      "metadata": {
        "id": "DfhnF8oc5u-k",
        "colab_type": "code",
        "colab": {}
      },
      "source": [
        "spicyToppings={x for x in pizza.SpicyTopping.descendants() if x.hasSpiciness and x.hasSpiciness==pizza.Hot}"
      ],
      "execution_count": 0,
      "outputs": []
    },
    {
      "cell_type": "code",
      "metadata": {
        "id": "UQ0A0LQb6QSU",
        "colab_type": "code",
        "colab": {
          "base_uri": "https://localhost:8080/",
          "height": 127
        },
        "outputId": "f493c39e-3f0b-44e2-feaf-85803558d9b3"
      },
      "source": [
        "spicyToppings"
      ],
      "execution_count": 219,
      "outputs": [
        {
          "output_type": "execute_result",
          "data": {
            "text/plain": [
              "{pizza.CajunSpiceTopping,\n",
              " pizza.HotGreenPepperTopping,\n",
              " pizza.HotSpicedBeefTopping,\n",
              " pizza.JalapenoPepperTopping,\n",
              " pizza.SpicyTopping,\n",
              " pizza.TobascoPepperSauce}"
            ]
          },
          "metadata": {
            "tags": []
          },
          "execution_count": 219
        }
      ]
    },
    {
      "cell_type": "markdown",
      "metadata": {
        "id": "jephZwrB6gZ7",
        "colab_type": "text"
      },
      "source": [
        "Select pizzas having spicy toppings"
      ]
    },
    {
      "cell_type": "code",
      "metadata": {
        "id": "PWFfWgdl6ctY",
        "colab_type": "code",
        "colab": {
          "base_uri": "https://localhost:8080/",
          "height": 35
        },
        "outputId": "95e09a27-d126-4b0d-eb7a-eacd030acefb"
      },
      "source": [
        "[x for x in pizza.NamedPizza.descendants() if x.hasTopping and len(spicyToppings.intersection(set(x.hasTopping)))>0]"
      ],
      "execution_count": 222,
      "outputs": [
        {
          "output_type": "execute_result",
          "data": {
            "text/plain": [
              "[pizza.PolloAdAstra, pizza.SloppyGiuseppe, pizza.AmericanHot, pizza.Cajun]"
            ]
          },
          "metadata": {
            "tags": []
          },
          "execution_count": 222
        }
      ]
    },
    {
      "cell_type": "markdown",
      "metadata": {
        "id": "NmW5wiSz6-DF",
        "colab_type": "text"
      },
      "source": [
        "Another way to select. Use the \n",
        "`pizza.SpicyPizza`\n",
        "class\n"
      ]
    },
    {
      "cell_type": "code",
      "metadata": {
        "id": "7GhBy2sk6mQZ",
        "colab_type": "code",
        "colab": {
          "base_uri": "https://localhost:8080/",
          "height": 35
        },
        "outputId": "4f1d07e2-2663-4055-edb1-194366605c77"
      },
      "source": [
        "set(pizza.SpicyPizza.descendants()).intersection(pizza.NamedPizza.descendants())"
      ],
      "execution_count": 223,
      "outputs": [
        {
          "output_type": "execute_result",
          "data": {
            "text/plain": [
              "{pizza.AmericanHot, pizza.Cajun, pizza.PolloAdAstra, pizza.SloppyGiuseppe}"
            ]
          },
          "metadata": {
            "tags": []
          },
          "execution_count": 223
        }
      ]
    },
    {
      "cell_type": "markdown",
      "metadata": {
        "id": "Fr0n6_Pc7QR5",
        "colab_type": "text"
      },
      "source": [
        "# Show pizzas having 2 or more cheeses in toppings"
      ]
    },
    {
      "cell_type": "markdown",
      "metadata": {
        "id": "b8CSpsuD7lzC",
        "colab_type": "text"
      },
      "source": [
        "Do some exploration"
      ]
    },
    {
      "cell_type": "code",
      "metadata": {
        "id": "jzssuM2D6q8Z",
        "colab_type": "code",
        "colab": {
          "base_uri": "https://localhost:8080/",
          "height": 146
        },
        "outputId": "2e9c5699-3cf5-4280-a695-aaca5a8a83bc"
      },
      "source": [
        "pizza.CheeseTopping.descendants()"
      ],
      "execution_count": 224,
      "outputs": [
        {
          "output_type": "execute_result",
          "data": {
            "text/plain": [
              "{pizza.CheeseTopping,\n",
              " pizza.CheeseyVegetableTopping,\n",
              " pizza.FourCheesesTopping,\n",
              " pizza.GoatsCheeseTopping,\n",
              " pizza.GorgonzolaTopping,\n",
              " pizza.MozzarellaTopping,\n",
              " pizza.ParmesanTopping}"
            ]
          },
          "metadata": {
            "tags": []
          },
          "execution_count": 224
        }
      ]
    },
    {
      "cell_type": "markdown",
      "metadata": {
        "id": "w0K0iBXu8IXw",
        "colab_type": "text"
      },
      "source": [
        "Compose list of desired toppings"
      ]
    },
    {
      "cell_type": "code",
      "metadata": {
        "id": "HxUWAFAD7q2A",
        "colab_type": "code",
        "colab": {
          "base_uri": "https://localhost:8080/",
          "height": 146
        },
        "outputId": "f720919b-75e0-4f91-bff9-732997c35452"
      },
      "source": [
        "cheeseToppings={x for x in pizza.CheeseTopping.descendants()}\n",
        "cheeseToppings"
      ],
      "execution_count": 228,
      "outputs": [
        {
          "output_type": "execute_result",
          "data": {
            "text/plain": [
              "{pizza.CheeseTopping,\n",
              " pizza.CheeseyVegetableTopping,\n",
              " pizza.FourCheesesTopping,\n",
              " pizza.GoatsCheeseTopping,\n",
              " pizza.GorgonzolaTopping,\n",
              " pizza.MozzarellaTopping,\n",
              " pizza.ParmesanTopping}"
            ]
          },
          "metadata": {
            "tags": []
          },
          "execution_count": 228
        }
      ]
    },
    {
      "cell_type": "markdown",
      "metadata": {
        "id": "U6OVZZ2H8i_Q",
        "colab_type": "text"
      },
      "source": [
        "Select pizzas (pizza.FourCheesesTopping is special case)"
      ]
    },
    {
      "cell_type": "code",
      "metadata": {
        "id": "xuJd7jqu77PS",
        "colab_type": "code",
        "colab": {
          "base_uri": "https://localhost:8080/",
          "height": 146
        },
        "outputId": "37745778-ee75-46b1-c453-a05b1d128f62"
      },
      "source": [
        "[x \n",
        "    for x in pizza.NamedPizza.descendants() \n",
        "    if x.hasTopping \n",
        "       and ( len(cheeseToppings.intersection(set(x.hasTopping)))>=2 or pizza.FourCheesesTopping in x.hasTopping)\n",
        "]"
      ],
      "execution_count": 230,
      "outputs": [
        {
          "output_type": "execute_result",
          "data": {
            "text/plain": [
              "[pizza.Parmense,\n",
              " pizza.QuattroFormaggi,\n",
              " pizza.Fiorentina,\n",
              " pizza.PrinceCarlo,\n",
              " pizza.Rosa,\n",
              " pizza.Caprina,\n",
              " pizza.Soho]"
            ]
          },
          "metadata": {
            "tags": []
          },
          "execution_count": 230
        }
      ]
    },
    {
      "cell_type": "markdown",
      "metadata": {
        "id": "uuiJR5Y5Yb7X",
        "colab_type": "text"
      },
      "source": [
        "# Group pizzas by country"
      ]
    },
    {
      "cell_type": "code",
      "metadata": {
        "id": "zL7knY--Ya4H",
        "colab_type": "code",
        "colab": {
          "base_uri": "https://localhost:8080/",
          "height": 127
        },
        "outputId": "153edf29-cbbe-48ea-822a-4529879e358d"
      },
      "source": [
        "[(x.hasCountryOfOrigin,x) for x in onto.classes() if x.hasCountryOfOrigin]"
      ],
      "execution_count": 11,
      "outputs": [
        {
          "output_type": "execute_result",
          "data": {
            "text/plain": [
              "[([pizza.America], pizza.American),\n",
              " ([pizza.Italy], pizza.MozzarellaTopping),\n",
              " ([pizza.America], pizza.AmericanHot),\n",
              " ([pizza.Italy], pizza.Napoletana),\n",
              " ([pizza.Italy], pizza.RealItalianPizza),\n",
              " ([pizza.Italy], pizza.Veneziana)]"
            ]
          },
          "metadata": {
            "tags": []
          },
          "execution_count": 11
        }
      ]
    },
    {
      "cell_type": "code",
      "metadata": {
        "id": "AZYH53_Q7-zj",
        "colab_type": "code",
        "colab": {}
      },
      "source": [
        "tmp=[(x.hasCountryOfOrigin[0],x) for x in onto.classes() if x.hasCountryOfOrigin]"
      ],
      "execution_count": 0,
      "outputs": []
    },
    {
      "cell_type": "code",
      "metadata": {
        "id": "D1R7CdfH_pul",
        "colab_type": "code",
        "colab": {
          "base_uri": "https://localhost:8080/",
          "height": 109
        },
        "outputId": "93a3a844-3ea4-452f-c593-94d306411cb2"
      },
      "source": [
        "by_country={}\n",
        "for c,p in tmp:\n",
        "  if c not in by_country:\n",
        "    by_country[c]=[]\n",
        "  by_country[c].append(p)\n",
        "by_country"
      ],
      "execution_count": 14,
      "outputs": [
        {
          "output_type": "execute_result",
          "data": {
            "text/plain": [
              "{pizza.America: [pizza.American, pizza.AmericanHot],\n",
              " pizza.Italy: [pizza.MozzarellaTopping,\n",
              "  pizza.Napoletana,\n",
              "  pizza.RealItalianPizza,\n",
              "  pizza.Veneziana]}"
            ]
          },
          "metadata": {
            "tags": []
          },
          "execution_count": 14
        }
      ]
    },
    {
      "cell_type": "markdown",
      "metadata": {
        "id": "D1MJXI8YZ32S",
        "colab_type": "text"
      },
      "source": [
        "# Show ingrediends of a given pizza"
      ]
    },
    {
      "cell_type": "code",
      "metadata": {
        "id": "gsXCylO1_sgd",
        "colab_type": "code",
        "colab": {}
      },
      "source": [
        "given_pizza=pizza.American"
      ],
      "execution_count": 0,
      "outputs": []
    },
    {
      "cell_type": "code",
      "metadata": {
        "id": "S9bQoCXPaEDt",
        "colab_type": "code",
        "colab": {
          "base_uri": "https://localhost:8080/",
          "height": 35
        },
        "outputId": "29b45a29-15b4-43a1-82b9-8a7ee06d6c70"
      },
      "source": [
        "for t in given_pizza.hasTopping:\n",
        "  print(t)\n",
        "  print(t.)"
      ],
      "execution_count": 16,
      "outputs": [
        {
          "output_type": "execute_result",
          "data": {
            "text/plain": [
              "[pizza.TomatoTopping, pizza.MozzarellaTopping, pizza.PeperoniSausageTopping]"
            ]
          },
          "metadata": {
            "tags": []
          },
          "execution_count": 16
        }
      ]
    },
    {
      "cell_type": "code",
      "metadata": {
        "id": "xPm1q33CaOo0",
        "colab_type": "code",
        "colab": {}
      },
      "source": [
        "given_pizza.hasBase"
      ],
      "execution_count": 0,
      "outputs": []
    },
    {
      "cell_type": "markdown",
      "metadata": {
        "id": "SvDwbKBbak6I",
        "colab_type": "text"
      },
      "source": [
        "# Search pizza by topping"
      ]
    },
    {
      "cell_type": "code",
      "metadata": {
        "id": "mK0gjjMZagVN",
        "colab_type": "code",
        "colab": {}
      },
      "source": [
        "the_topping = pizza.MushroomTopping"
      ],
      "execution_count": 0,
      "outputs": []
    },
    {
      "cell_type": "code",
      "metadata": {
        "id": "tdyL2NFJavK1",
        "colab_type": "code",
        "colab": {
          "base_uri": "https://localhost:8080/",
          "height": 35
        },
        "outputId": "af566d70-cd7d-427c-dc4a-95fccb30b3f4"
      },
      "source": [
        "[x for x in onto.classes() if x.hasTopping and the_topping in x.hasTopping]"
      ],
      "execution_count": 22,
      "outputs": [
        {
          "output_type": "execute_result",
          "data": {
            "text/plain": [
              "[pizza.FourSeasons, pizza.Giardiniera, pizza.LaReine, pizza.Mushroom]"
            ]
          },
          "metadata": {
            "tags": []
          },
          "execution_count": 22
        }
      ]
    },
    {
      "cell_type": "markdown",
      "metadata": {
        "id": "BTF-AJNmcbK6",
        "colab_type": "text"
      },
      "source": [
        "# Show toppings grouped by types"
      ]
    },
    {
      "cell_type": "code",
      "metadata": {
        "id": "aoNx00o3bCPe",
        "colab_type": "code",
        "colab": {
          "base_uri": "https://localhost:8080/",
          "height": 201
        },
        "outputId": "05ccbf3f-8c0d-4b87-f2c8-830dcca86283"
      },
      "source": [
        "list(pizza.PizzaTopping.subclasses())"
      ],
      "execution_count": 24,
      "outputs": [
        {
          "output_type": "execute_result",
          "data": {
            "text/plain": [
              "[pizza.FishTopping,\n",
              " pizza.VegetableTopping,\n",
              " pizza.HerbSpiceTopping,\n",
              " pizza.CheeseTopping,\n",
              " pizza.MeatTopping,\n",
              " pizza.FruitTopping,\n",
              " pizza.NutTopping,\n",
              " pizza.SauceTopping,\n",
              " pizza.SpicyTopping,\n",
              " pizza.VegetarianTopping]"
            ]
          },
          "metadata": {
            "tags": []
          },
          "execution_count": 24
        }
      ]
    },
    {
      "cell_type": "code",
      "metadata": {
        "id": "YivzlN7dc9ut",
        "colab_type": "code",
        "colab": {
          "base_uri": "https://localhost:8080/",
          "height": 404
        },
        "outputId": "d98dacdc-98d4-4418-d6c8-29412d9026e6"
      },
      "source": [
        "for x in list(pizza.PizzaTopping.subclasses()):\n",
        "  print(x)\n",
        "  print(x.descendants())"
      ],
      "execution_count": 25,
      "outputs": [
        {
          "output_type": "stream",
          "text": [
            "pizza.FishTopping\n",
            "{pizza.AnchoviesTopping, pizza.PrawnsTopping, pizza.FishTopping, pizza.MixedSeafoodTopping}\n",
            "pizza.VegetableTopping\n",
            "{pizza.JalapenoPepperTopping, pizza.CaperTopping, pizza.SpinachTopping, pizza.HotGreenPepperTopping, pizza.GarlicTopping, pizza.GreenPepperTopping, pizza.RocketTopping, pizza.SlicedTomatoTopping, pizza.TomatoTopping, pizza.CheeseyVegetableTopping, pizza.LeekTopping, pizza.PeperonataTopping, pizza.AsparagusTopping, pizza.ArtichokeTopping, pizza.OliveTopping, pizza.MushroomTopping, pizza.OnionTopping, owl.Nothing, pizza.IceCream, pizza.PepperTopping, pizza.VegetableTopping, pizza.PetitPoisTopping, pizza.SweetPepperTopping, pizza.SundriedTomatoTopping, pizza.RedOnionTopping}\n",
            "pizza.HerbSpiceTopping\n",
            "{pizza.RosemaryTopping, pizza.CajunSpiceTopping, pizza.HerbSpiceTopping}\n",
            "pizza.CheeseTopping\n",
            "{pizza.FourCheesesTopping, pizza.CheeseyVegetableTopping, pizza.ParmesanTopping, pizza.GoatsCheeseTopping, pizza.MozzarellaTopping, pizza.CheeseTopping, owl.Nothing, pizza.IceCream, pizza.GorgonzolaTopping}\n",
            "pizza.MeatTopping\n",
            "{pizza.ChickenTopping, pizza.HamTopping, pizza.PeperoniSausageTopping, pizza.MeatTopping, pizza.ParmaHamTopping, pizza.HotSpicedBeefTopping}\n",
            "pizza.FruitTopping\n",
            "{pizza.FruitTopping, pizza.SultanaTopping}\n",
            "pizza.NutTopping\n",
            "{pizza.PineKernels, pizza.NutTopping}\n",
            "pizza.SauceTopping\n",
            "{pizza.TobascoPepperSauce, pizza.SauceTopping}\n",
            "pizza.SpicyTopping\n",
            "{pizza.JalapenoPepperTopping, pizza.HotGreenPepperTopping, pizza.SpicyTopping, pizza.CajunSpiceTopping, pizza.HotSpicedBeefTopping, pizza.TobascoPepperSauce}\n",
            "pizza.VegetarianTopping\n",
            "{pizza.SultanaTopping, pizza.JalapenoPepperTopping, pizza.CaperTopping, pizza.SpinachTopping, pizza.HotGreenPepperTopping, pizza.GarlicTopping, pizza.GreenPepperTopping, pizza.RedOnionTopping, pizza.HerbSpiceTopping, pizza.RocketTopping, pizza.TomatoTopping, pizza.SauceTopping, pizza.SlicedTomatoTopping, pizza.CheeseyVegetableTopping, pizza.LeekTopping, pizza.PeperonataTopping, pizza.AsparagusTopping, pizza.MozzarellaTopping, pizza.GoatsCheeseTopping, pizza.VegetarianTopping, pizza.NutTopping, pizza.ArtichokeTopping, pizza.OliveTopping, pizza.MushroomTopping, pizza.OnionTopping, pizza.FourCheesesTopping, pizza.RosemaryTopping, pizza.ParmesanTopping, owl.Nothing, pizza.IceCream, pizza.PepperTopping, pizza.CajunSpiceTopping, pizza.GorgonzolaTopping, pizza.TobascoPepperSauce, pizza.VegetableTopping, pizza.PetitPoisTopping, pizza.SweetPepperTopping, pizza.PineKernels, pizza.SundriedTomatoTopping, pizza.CheeseTopping, pizza.FruitTopping}\n"
          ],
          "name": "stdout"
        }
      ]
    },
    {
      "cell_type": "markdown",
      "metadata": {
        "id": "c8vvDvK_sszk",
        "colab_type": "text"
      },
      "source": [
        "# Show pizzas that don't have a given topping"
      ]
    },
    {
      "cell_type": "code",
      "metadata": {
        "id": "RH4SQ93xj64v",
        "colab_type": "code",
        "colab": {}
      },
      "source": [
        "\n"
      ],
      "execution_count": 0,
      "outputs": []
    },
    {
      "cell_type": "code",
      "metadata": {
        "id": "A-Hh5Oi8LjgK",
        "colab_type": "code",
        "colab": {}
      },
      "source": [
        ""
      ],
      "execution_count": 0,
      "outputs": []
    }
  ]
}