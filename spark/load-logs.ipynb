{
 "cells": [
  {
   "cell_type": "code",
   "execution_count": 44,
   "metadata": {},
   "outputs": [],
   "source": [
    "import re\n",
    "import pandas as pd"
   ]
  },
  {
   "cell_type": "code",
   "execution_count": 45,
   "metadata": {},
   "outputs": [],
   "source": [
    "linestart = re.compile(r'^\\d{1,2} [A-Za-z]{3} \\d{4} | \\d{2}:\\d{2}:\\d{2},\\d{3}', re.IGNORECASE)\n",
    "linesplit = re.compile(r'\\s*\\|\\s+')\n",
    "def parse_logs(lines):\n",
    "    log_items=[]\n",
    "    log_item={}\n",
    "    for line in lines:\n",
    "        if linestart.match(line):\n",
    "            if 'message' in log_item:\n",
    "                log_items.append(log_item)\n",
    "            splitted_line=linesplit.split(line)\n",
    "            log_item={'date':splitted_line[0], \n",
    "                      'time': splitted_line[1], \n",
    "                      'level': splitted_line[2], \n",
    "                      'thread': splitted_line[3],\n",
    "                      'label': splitted_line[4],\n",
    "                      # 'unknown': splitted_line[5],\n",
    "                      'message': splitted_line[6]\n",
    "                     }\n",
    "        else:\n",
    "            log_item['message'] =  log_item['message']+str(line)\n",
    "    log_items.append(log_item)\n",
    "    return log_items"
   ]
  },
  {
   "cell_type": "code",
   "execution_count": 51,
   "metadata": {},
   "outputs": [
    {
     "name": "stdout",
     "output_type": "stream",
     "text": [
      "          date                                    label level  \\\n",
      "0  18 Feb 2019                               Extensions  INFO   \n",
      "1  18 Feb 2019  bitswarm.sessions.DefaultSessionManager  INFO   \n",
      "2  18 Feb 2019  bitswarm.sessions.DefaultSessionManager  INFO   \n",
      "3  18 Feb 2019                               Extensions  INFO   \n",
      "4  18 Feb 2019                               Extensions  INFO   \n",
      "\n",
      "                                             message             thread  \\\n",
      "0         {Game}: game task number 4 reporting in \\n    pool-1-thread-1   \n",
      "1  Session removed: { Id: 25616, Type: WEBSOCKET,...  New I/O worker #1   \n",
      "2  Session created: { Id: 25619, Type: WEBSOCKET,...  New I/O worker #4   \n",
      "3  {Game}: game task number tutorial reporting in \\n    pool-1-thread-1   \n",
      "4         {Game}: game task number 5 reporting in \\n    pool-1-thread-1   \n",
      "\n",
      "           time  \n",
      "0  08:00:01,848  \n",
      "1  08:00:09,098  \n",
      "2  08:00:09,101  \n",
      "3  08:00:10,052  \n",
      "4  08:00:11,375  \n"
     ]
    }
   ],
   "source": [
    "f=open('data/smartfox.log')\n",
    "lines=f.readlines()\n",
    "df=pd.DataFrame(parse_logs(lines))\n",
    "print(df.head())\n",
    "df.to_json('data/smartfox.json', orient='records',lines=True)\n",
    "f.close()"
   ]
  },
  {
   "cell_type": "code",
   "execution_count": null,
   "metadata": {},
   "outputs": [],
   "source": []
  }
 ],
 "metadata": {
  "kernelspec": {
   "display_name": "Python 3",
   "language": "python",
   "name": "python3"
  },
  "language_info": {
   "codemirror_mode": {
    "name": "ipython",
    "version": 3
   },
   "file_extension": ".py",
   "mimetype": "text/x-python",
   "name": "python",
   "nbconvert_exporter": "python",
   "pygments_lexer": "ipython3",
   "version": "3.7.0"
  }
 },
 "nbformat": 4,
 "nbformat_minor": 2
}
